{
 "cells": [
  {
   "cell_type": "code",
   "execution_count": 1,
   "metadata": {},
   "outputs": [],
   "source": [
    "import numpy as np\n",
    "import pandas as pd"
   ]
  },
  {
   "cell_type": "markdown",
   "metadata": {},
   "source": [
    "# 1.日期和时间数据类型及工具"
   ]
  },
  {
   "cell_type": "code",
   "execution_count": 2,
   "metadata": {},
   "outputs": [],
   "source": [
    "from datetime import datetime"
   ]
  },
  {
   "cell_type": "code",
   "execution_count": 2,
   "metadata": {},
   "outputs": [
    {
     "data": {
      "text/plain": [
       "datetime.datetime(2019, 7, 16, 15, 51, 57, 525251)"
      ]
     },
     "execution_count": 2,
     "metadata": {},
     "output_type": "execute_result"
    }
   ],
   "source": [
    "now = datetime.now()\n",
    "now"
   ]
  },
  {
   "cell_type": "code",
   "execution_count": 3,
   "metadata": {},
   "outputs": [
    {
     "data": {
      "text/plain": [
       "(2019, 7, 16)"
      ]
     },
     "execution_count": 3,
     "metadata": {},
     "output_type": "execute_result"
    }
   ],
   "source": [
    "now.year,now.month,now.day"
   ]
  },
  {
   "cell_type": "markdown",
   "metadata": {},
   "source": [
    "datetime以毫秒形式存储日期和时间。timedelta表示两个datetime对象之间的时间差："
   ]
  },
  {
   "cell_type": "code",
   "execution_count": 5,
   "metadata": {},
   "outputs": [
    {
     "data": {
      "text/plain": [
       "datetime.timedelta(days=926, seconds=56700)"
      ]
     },
     "execution_count": 5,
     "metadata": {},
     "output_type": "execute_result"
    }
   ],
   "source": [
    "delta = datetime(2011,1,7)-datetime(2008,6,24,8,15)\n",
    "delta"
   ]
  },
  {
   "cell_type": "markdown",
   "metadata": {},
   "source": [
    "可以给datetime对象加上（或减去）一个或多个timedelta，就会产生一个新对象："
   ]
  },
  {
   "cell_type": "code",
   "execution_count": 6,
   "metadata": {},
   "outputs": [
    {
     "data": {
      "text/plain": [
       "datetime.datetime(2011, 1, 19, 0, 0)"
      ]
     },
     "execution_count": 6,
     "metadata": {},
     "output_type": "execute_result"
    }
   ],
   "source": [
    "from datetime import timedelta\n",
    "start = datetime(2011,1,7)\n",
    "start + timedelta(12)     # 12表示days"
   ]
  },
  {
   "cell_type": "code",
   "execution_count": 7,
   "metadata": {},
   "outputs": [
    {
     "data": {
      "text/plain": [
       "datetime.datetime(2010, 12, 14, 0, 0)"
      ]
     },
     "execution_count": 7,
     "metadata": {},
     "output_type": "execute_result"
    }
   ],
   "source": [
    "start-2*timedelta(12)"
   ]
  },
  {
   "cell_type": "markdown",
   "metadata": {},
   "source": [
    "# 字符串和datetime的相互转换"
   ]
  },
  {
   "cell_type": "markdown",
   "metadata": {},
   "source": [
    "利用str或strftime方法（传入一个格式化字符串），datetime对象和pandas的Timestamp\n",
    "对象可以被格式化为字符串："
   ]
  },
  {
   "cell_type": "code",
   "execution_count": 8,
   "metadata": {},
   "outputs": [
    {
     "data": {
      "text/plain": [
       "datetime.datetime(2011, 1, 3, 0, 0)"
      ]
     },
     "execution_count": 8,
     "metadata": {},
     "output_type": "execute_result"
    }
   ],
   "source": [
    "stamp = datetime(2011,1,3)\n",
    "stamp"
   ]
  },
  {
   "cell_type": "code",
   "execution_count": 9,
   "metadata": {},
   "outputs": [
    {
     "data": {
      "text/plain": [
       "'2011-01-03 00:00:00'"
      ]
     },
     "execution_count": 9,
     "metadata": {},
     "output_type": "execute_result"
    }
   ],
   "source": [
    "str(stamp)"
   ]
  },
  {
   "cell_type": "code",
   "execution_count": 13,
   "metadata": {},
   "outputs": [
    {
     "data": {
      "text/plain": [
       "'2011-01-03'"
      ]
     },
     "execution_count": 13,
     "metadata": {},
     "output_type": "execute_result"
    }
   ],
   "source": [
    "stamp.strftime('%Y-%m-%d')    # %Y 4位数的年  与  %y 2位数的年 "
   ]
  },
  {
   "cell_type": "markdown",
   "metadata": {},
   "source": [
    "datetime.strptime可以用格式化编码将字符串转为日期："
   ]
  },
  {
   "cell_type": "code",
   "execution_count": 15,
   "metadata": {},
   "outputs": [
    {
     "data": {
      "text/plain": [
       "datetime.datetime(2011, 1, 3, 0, 0)"
      ]
     },
     "execution_count": 15,
     "metadata": {},
     "output_type": "execute_result"
    }
   ],
   "source": [
    "value  = '2011-01-03'\n",
    "datetime.strptime(value,'%Y-%m-%d')"
   ]
  },
  {
   "cell_type": "code",
   "execution_count": 17,
   "metadata": {},
   "outputs": [
    {
     "data": {
      "text/plain": [
       "[datetime.datetime(2011, 7, 6, 0, 0), datetime.datetime(2011, 8, 6, 0, 0)]"
      ]
     },
     "execution_count": 17,
     "metadata": {},
     "output_type": "execute_result"
    }
   ],
   "source": [
    "datestrs = ['7/6/2011','8/6/2011']\n",
    "[datetime.strptime(x,'%m/%d/%Y') for x in datestrs]"
   ]
  },
  {
   "cell_type": "markdown",
   "metadata": {},
   "source": [
    "datetime.strptime是用过已知格式进行日期解析的最佳方式。但是每次都要编写格式定义\n",
    "是很麻烦的事。对于常见的日期格式，可以使用dateutil中的parser.parse方法："
   ]
  },
  {
   "cell_type": "code",
   "execution_count": 19,
   "metadata": {},
   "outputs": [
    {
     "data": {
      "text/plain": [
       "datetime.datetime(2011, 1, 3, 0, 0)"
      ]
     },
     "execution_count": 19,
     "metadata": {},
     "output_type": "execute_result"
    }
   ],
   "source": [
    "from dateutil.parser import parse\n",
    "parse('2011-01-03')"
   ]
  },
  {
   "cell_type": "markdown",
   "metadata": {},
   "source": [
    "dateutil可以解析几乎所有人类能够理解的日期表示形式："
   ]
  },
  {
   "cell_type": "code",
   "execution_count": 26,
   "metadata": {},
   "outputs": [
    {
     "data": {
      "text/plain": [
       "datetime.datetime(1997, 1, 31, 22, 45)"
      ]
     },
     "execution_count": 26,
     "metadata": {},
     "output_type": "execute_result"
    }
   ],
   "source": [
    "parse('Jan 31, 1997  10:45 PM')  # 注意逗号后面需要空格"
   ]
  },
  {
   "cell_type": "markdown",
   "metadata": {},
   "source": [
    "日出现在月的前面很普遍，传入dayfirst=True即可解决这个问题："
   ]
  },
  {
   "cell_type": "code",
   "execution_count": 27,
   "metadata": {},
   "outputs": [
    {
     "data": {
      "text/plain": [
       "datetime.datetime(2011, 6, 12, 0, 0)"
      ]
     },
     "execution_count": 27,
     "metadata": {},
     "output_type": "execute_result"
    }
   ],
   "source": [
    "parse('6/12/2011')"
   ]
  },
  {
   "cell_type": "code",
   "execution_count": 28,
   "metadata": {},
   "outputs": [
    {
     "data": {
      "text/plain": [
       "datetime.datetime(2011, 12, 6, 0, 0)"
      ]
     },
     "execution_count": 28,
     "metadata": {},
     "output_type": "execute_result"
    }
   ],
   "source": [
    "parse('6/12/2011',dayfirst = True)"
   ]
  },
  {
   "cell_type": "markdown",
   "metadata": {},
   "source": [
    "pandas的 to_datetime可以解析多种不同的日起形式（对标准的很快）。 解析是将\n",
    "字符串格式转换为日期形式（datetime）"
   ]
  },
  {
   "cell_type": "code",
   "execution_count": 32,
   "metadata": {},
   "outputs": [
    {
     "data": {
      "text/plain": [
       "DatetimeIndex(['2011-07-06 12:00:00', '2011-08-06 00:00:00'], dtype='datetime64[ns]', freq=None)"
      ]
     },
     "execution_count": 32,
     "metadata": {},
     "output_type": "execute_result"
    }
   ],
   "source": [
    "datestrs = ['2011-07-06 12:00:00','2011-08-06 00:00:00']\n",
    "pd.to_datetime(datestrs)"
   ]
  },
  {
   "cell_type": "markdown",
   "metadata": {},
   "source": [
    "还可以处理缺失值（None、空字符串等）"
   ]
  },
  {
   "cell_type": "code",
   "execution_count": 33,
   "metadata": {},
   "outputs": [
    {
     "data": {
      "text/plain": [
       "DatetimeIndex(['2011-07-06 12:00:00', '2011-08-06 00:00:00', 'NaT'], dtype='datetime64[ns]', freq=None)"
      ]
     },
     "execution_count": 33,
     "metadata": {},
     "output_type": "execute_result"
    }
   ],
   "source": [
    "idx = pd.to_datetime(datestrs+[None])\n",
    "idx"
   ]
  },
  {
   "cell_type": "code",
   "execution_count": 37,
   "metadata": {},
   "outputs": [
    {
     "data": {
      "text/plain": [
       "NaT"
      ]
     },
     "execution_count": 37,
     "metadata": {},
     "output_type": "execute_result"
    }
   ],
   "source": [
    "idx[2]    # NaT (Not a Time)是pandas中时间戳数据的null值"
   ]
  },
  {
   "cell_type": "code",
   "execution_count": 35,
   "metadata": {},
   "outputs": [
    {
     "data": {
      "text/plain": [
       "array([False, False,  True])"
      ]
     },
     "execution_count": 35,
     "metadata": {},
     "output_type": "execute_result"
    }
   ],
   "source": [
    "pd.isnull(idx)"
   ]
  },
  {
   "cell_type": "markdown",
   "metadata": {},
   "source": [
    "# 2.时间序列基础"
   ]
  },
  {
   "cell_type": "markdown",
   "metadata": {},
   "source": [
    "pandas最基础的时间序列类型就是以时间戳（通常以Python字符串或datetime对象表示）\n",
    "为索引的Series："
   ]
  },
  {
   "cell_type": "code",
   "execution_count": 41,
   "metadata": {},
   "outputs": [
    {
     "data": {
      "text/plain": [
       "2011-01-02    0.380906\n",
       "2011-01-05   -0.276791\n",
       "2011-01-07   -1.516513\n",
       "2011-01-08    1.779521\n",
       "2011-01-10    0.796415\n",
       "2011-01-12   -0.419013\n",
       "dtype: float64"
      ]
     },
     "execution_count": 41,
     "metadata": {},
     "output_type": "execute_result"
    }
   ],
   "source": [
    "from datetime import datetime\n",
    "dates = [datetime(2011,1,2),datetime(2011,1,5),\n",
    "        datetime(2011,1,7),datetime(2011,1,8),\n",
    "        datetime(2011,1,10),datetime(2011,1,12)]\n",
    "ts = pd.Series(np.random.randn(6),index = dates)\n",
    "ts"
   ]
  },
  {
   "cell_type": "markdown",
   "metadata": {},
   "source": [
    "这些datetime对象实际被放在一个DatetimeIndex中："
   ]
  },
  {
   "cell_type": "code",
   "execution_count": 44,
   "metadata": {},
   "outputs": [
    {
     "data": {
      "text/plain": [
       "DatetimeIndex(['2011-01-02', '2011-01-05', '2011-01-07', '2011-01-08',\n",
       "               '2011-01-10', '2011-01-12'],\n",
       "              dtype='datetime64[ns]', freq=None)"
      ]
     },
     "execution_count": 44,
     "metadata": {},
     "output_type": "execute_result"
    }
   ],
   "source": [
    "ts.index"
   ]
  },
  {
   "cell_type": "markdown",
   "metadata": {},
   "source": [
    "跟其他Series一样，不同索引的时间序列之间的算术运算会自动按日期对齐："
   ]
  },
  {
   "cell_type": "code",
   "execution_count": 42,
   "metadata": {},
   "outputs": [
    {
     "data": {
      "text/plain": [
       "2011-01-02    0.380906\n",
       "2011-01-07   -1.516513\n",
       "2011-01-10    0.796415\n",
       "dtype: float64"
      ]
     },
     "execution_count": 42,
     "metadata": {},
     "output_type": "execute_result"
    }
   ],
   "source": [
    "ts[::2]"
   ]
  },
  {
   "cell_type": "code",
   "execution_count": 43,
   "metadata": {},
   "outputs": [
    {
     "data": {
      "text/plain": [
       "2011-01-02    0.761812\n",
       "2011-01-05         NaN\n",
       "2011-01-07   -3.033025\n",
       "2011-01-08         NaN\n",
       "2011-01-10    1.592830\n",
       "2011-01-12         NaN\n",
       "dtype: float64"
      ]
     },
     "execution_count": 43,
     "metadata": {},
     "output_type": "execute_result"
    }
   ],
   "source": [
    "ts+ts[::2]  # 取开头，每个两个取一个"
   ]
  },
  {
   "cell_type": "markdown",
   "metadata": {},
   "source": [
    "DatetimeIndex中的各个标量值是pandas的Timestamp对象："
   ]
  },
  {
   "cell_type": "code",
   "execution_count": 46,
   "metadata": {},
   "outputs": [
    {
     "data": {
      "text/plain": [
       "Timestamp('2011-01-02 00:00:00')"
      ]
     },
     "execution_count": 46,
     "metadata": {},
     "output_type": "execute_result"
    }
   ],
   "source": [
    "stamp = ts.index[0]\n",
    "stamp"
   ]
  },
  {
   "cell_type": "markdown",
   "metadata": {},
   "source": [
    "只要有需要，TimeStamp可以随时自动转换为datetime对象。此外，它还可以存储频率信息，\n",
    "且知道如何执行时区转换及其其他操作。"
   ]
  },
  {
   "cell_type": "markdown",
   "metadata": {},
   "source": [
    "# 索引、选取、子集构造"
   ]
  },
  {
   "cell_type": "markdown",
   "metadata": {},
   "source": [
    "当根据标签索引选取数据时，时间序列和其它的pandas.Series很想："
   ]
  },
  {
   "cell_type": "code",
   "execution_count": 47,
   "metadata": {},
   "outputs": [
    {
     "data": {
      "text/plain": [
       "Timestamp('2011-01-07 00:00:00')"
      ]
     },
     "execution_count": 47,
     "metadata": {},
     "output_type": "execute_result"
    }
   ],
   "source": [
    "stamp = ts.index[2]\n",
    "stamp"
   ]
  },
  {
   "cell_type": "code",
   "execution_count": 48,
   "metadata": {},
   "outputs": [
    {
     "data": {
      "text/plain": [
       "-1.5165125232920778"
      ]
     },
     "execution_count": 48,
     "metadata": {},
     "output_type": "execute_result"
    }
   ],
   "source": [
    "ts[2]"
   ]
  },
  {
   "cell_type": "code",
   "execution_count": 49,
   "metadata": {},
   "outputs": [
    {
     "data": {
      "text/plain": [
       "-1.5165125232920778"
      ]
     },
     "execution_count": 49,
     "metadata": {},
     "output_type": "execute_result"
    }
   ],
   "source": [
    "ts[stamp]"
   ]
  },
  {
   "cell_type": "markdown",
   "metadata": {},
   "source": [
    "还有一种更为方便的方法：传入一个可以被解释为日期的字符串！！"
   ]
  },
  {
   "cell_type": "code",
   "execution_count": 50,
   "metadata": {},
   "outputs": [
    {
     "data": {
      "text/plain": [
       "0.7964147767542104"
      ]
     },
     "execution_count": 50,
     "metadata": {},
     "output_type": "execute_result"
    }
   ],
   "source": [
    "ts['1/10/2011']"
   ]
  },
  {
   "cell_type": "code",
   "execution_count": 51,
   "metadata": {},
   "outputs": [
    {
     "data": {
      "text/plain": [
       "0.7964147767542104"
      ]
     },
     "execution_count": 51,
     "metadata": {},
     "output_type": "execute_result"
    }
   ],
   "source": [
    "ts['20110110']"
   ]
  },
  {
   "cell_type": "markdown",
   "metadata": {},
   "source": [
    "对于较长的时间序列，只需传入‘年’或‘年月’即可轻松选取数据的切片："
   ]
  },
  {
   "cell_type": "code",
   "execution_count": 54,
   "metadata": {
    "scrolled": true
   },
   "outputs": [
    {
     "data": {
      "text/plain": [
       "2000-01-01    0.742272\n",
       "2000-01-02    0.102663\n",
       "2000-01-03    1.725411\n",
       "2000-01-04    1.410775\n",
       "2000-01-05   -0.240479\n",
       "2000-01-06   -0.311919\n",
       "2000-01-07    0.875844\n",
       "2000-01-08   -0.865756\n",
       "2000-01-09   -0.612966\n",
       "2000-01-10   -0.536282\n",
       "2000-01-11    0.207134\n",
       "2000-01-12   -0.014450\n",
       "2000-01-13    0.390230\n",
       "2000-01-14   -0.202745\n",
       "2000-01-15    0.981771\n",
       "2000-01-16   -0.100048\n",
       "2000-01-17    0.812346\n",
       "2000-01-18    1.369438\n",
       "2000-01-19   -0.820046\n",
       "2000-01-20    0.376921\n",
       "2000-01-21   -1.551911\n",
       "2000-01-22   -0.746659\n",
       "2000-01-23   -1.546927\n",
       "2000-01-24   -0.366547\n",
       "2000-01-25    0.208120\n",
       "2000-01-26    1.008324\n",
       "2000-01-27   -1.528306\n",
       "2000-01-28    1.532856\n",
       "2000-01-29   -1.270758\n",
       "2000-01-30    0.482593\n",
       "                ...   \n",
       "2002-08-28    0.802535\n",
       "2002-08-29   -0.090735\n",
       "2002-08-30    0.691798\n",
       "2002-08-31    1.155396\n",
       "2002-09-01    0.502199\n",
       "2002-09-02    0.808253\n",
       "2002-09-03    0.801747\n",
       "2002-09-04    1.935028\n",
       "2002-09-05    0.832459\n",
       "2002-09-06    0.833510\n",
       "2002-09-07    0.477503\n",
       "2002-09-08    1.921062\n",
       "2002-09-09    0.241840\n",
       "2002-09-10   -0.165315\n",
       "2002-09-11   -0.189277\n",
       "2002-09-12    0.382729\n",
       "2002-09-13   -0.678704\n",
       "2002-09-14    0.641370\n",
       "2002-09-15    0.354313\n",
       "2002-09-16   -0.177587\n",
       "2002-09-17   -0.709557\n",
       "2002-09-18   -4.517275\n",
       "2002-09-19    1.306536\n",
       "2002-09-20    0.088479\n",
       "2002-09-21   -0.050870\n",
       "2002-09-22   -1.175528\n",
       "2002-09-23   -0.752641\n",
       "2002-09-24    0.133483\n",
       "2002-09-25    0.594617\n",
       "2002-09-26    0.421609\n",
       "Freq: D, Length: 1000, dtype: float64"
      ]
     },
     "execution_count": 54,
     "metadata": {},
     "output_type": "execute_result"
    }
   ],
   "source": [
    "longer_ts = pd.Series(np.random.randn(1000),index = pd.date_range('1/1/2000',periods=1000))\n",
    "longer_ts"
   ]
  },
  {
   "cell_type": "code",
   "execution_count": 55,
   "metadata": {},
   "outputs": [
    {
     "data": {
      "text/plain": [
       "2001-01-01   -0.089766\n",
       "2001-01-02   -1.092192\n",
       "2001-01-03    0.081580\n",
       "2001-01-04    0.058668\n",
       "2001-01-05   -2.185395\n",
       "2001-01-06    1.522199\n",
       "2001-01-07    1.339346\n",
       "2001-01-08   -0.325341\n",
       "2001-01-09   -0.392393\n",
       "2001-01-10   -1.213513\n",
       "2001-01-11    1.829604\n",
       "2001-01-12    0.216604\n",
       "2001-01-13    1.696069\n",
       "2001-01-14    0.195496\n",
       "2001-01-15    1.103463\n",
       "2001-01-16   -0.692224\n",
       "2001-01-17   -0.624620\n",
       "2001-01-18   -1.006607\n",
       "2001-01-19    1.494443\n",
       "2001-01-20   -0.662170\n",
       "2001-01-21    2.031171\n",
       "2001-01-22    0.260063\n",
       "2001-01-23   -0.668932\n",
       "2001-01-24    1.275560\n",
       "2001-01-25    1.015974\n",
       "2001-01-26   -0.276546\n",
       "2001-01-27   -0.306013\n",
       "2001-01-28   -1.645083\n",
       "2001-01-29    0.259583\n",
       "2001-01-30   -0.861081\n",
       "                ...   \n",
       "2001-12-02    0.283440\n",
       "2001-12-03   -1.326613\n",
       "2001-12-04   -0.367854\n",
       "2001-12-05   -0.473702\n",
       "2001-12-06   -0.534433\n",
       "2001-12-07   -0.026919\n",
       "2001-12-08   -0.769785\n",
       "2001-12-09    3.187234\n",
       "2001-12-10    0.488647\n",
       "2001-12-11   -1.496580\n",
       "2001-12-12   -0.618909\n",
       "2001-12-13    0.709746\n",
       "2001-12-14   -0.812257\n",
       "2001-12-15   -0.776491\n",
       "2001-12-16    1.704806\n",
       "2001-12-17   -0.119535\n",
       "2001-12-18    0.638691\n",
       "2001-12-19   -0.795130\n",
       "2001-12-20    1.325549\n",
       "2001-12-21    0.448115\n",
       "2001-12-22   -1.013371\n",
       "2001-12-23   -1.429704\n",
       "2001-12-24   -0.441894\n",
       "2001-12-25   -0.383157\n",
       "2001-12-26    0.592691\n",
       "2001-12-27    0.207051\n",
       "2001-12-28   -0.003355\n",
       "2001-12-29   -0.036186\n",
       "2001-12-30    0.448123\n",
       "2001-12-31    0.214490\n",
       "Freq: D, Length: 365, dtype: float64"
      ]
     },
     "execution_count": 55,
     "metadata": {},
     "output_type": "execute_result"
    }
   ],
   "source": [
    "longer_ts['2001']"
   ]
  },
  {
   "cell_type": "code",
   "execution_count": 56,
   "metadata": {},
   "outputs": [
    {
     "data": {
      "text/plain": [
       "2001-05-01   -1.121568\n",
       "2001-05-02    0.347226\n",
       "2001-05-03    0.009897\n",
       "2001-05-04   -0.396891\n",
       "2001-05-05    0.969269\n",
       "2001-05-06    0.179470\n",
       "2001-05-07   -0.362265\n",
       "2001-05-08    0.929777\n",
       "2001-05-09   -1.548803\n",
       "2001-05-10   -0.170962\n",
       "2001-05-11   -0.819363\n",
       "2001-05-12   -0.441534\n",
       "2001-05-13    2.314359\n",
       "2001-05-14    0.118261\n",
       "2001-05-15    0.042587\n",
       "2001-05-16   -0.136550\n",
       "2001-05-17   -0.090642\n",
       "2001-05-18   -1.138472\n",
       "2001-05-19   -0.976478\n",
       "2001-05-20   -1.175659\n",
       "2001-05-21    0.153772\n",
       "2001-05-22   -0.363741\n",
       "2001-05-23   -1.402980\n",
       "2001-05-24    1.303842\n",
       "2001-05-25   -2.449559\n",
       "2001-05-26   -0.174047\n",
       "2001-05-27   -0.456726\n",
       "2001-05-28   -0.274737\n",
       "2001-05-29    0.088139\n",
       "2001-05-30   -0.523603\n",
       "2001-05-31   -1.643417\n",
       "Freq: D, dtype: float64"
      ]
     },
     "execution_count": 56,
     "metadata": {},
     "output_type": "execute_result"
    }
   ],
   "source": [
    "longer_ts['2001-05']  #  年月"
   ]
  },
  {
   "cell_type": "markdown",
   "metadata": {},
   "source": [
    "datetime对象也可以进行切片："
   ]
  },
  {
   "cell_type": "code",
   "execution_count": 59,
   "metadata": {},
   "outputs": [
    {
     "data": {
      "text/plain": [
       "2011-01-02    0.380906\n",
       "2011-01-05   -0.276791\n",
       "2011-01-07   -1.516513\n",
       "2011-01-08    1.779521\n",
       "2011-01-10    0.796415\n",
       "2011-01-12   -0.419013\n",
       "dtype: float64"
      ]
     },
     "execution_count": 59,
     "metadata": {},
     "output_type": "execute_result"
    }
   ],
   "source": [
    "ts"
   ]
  },
  {
   "cell_type": "code",
   "execution_count": 60,
   "metadata": {},
   "outputs": [
    {
     "data": {
      "text/plain": [
       "2011-01-07   -1.516513\n",
       "2011-01-08    1.779521\n",
       "2011-01-10    0.796415\n",
       "2011-01-12   -0.419013\n",
       "dtype: float64"
      ]
     },
     "execution_count": 60,
     "metadata": {},
     "output_type": "execute_result"
    }
   ],
   "source": [
    "ts[datetime(2011,1,7):]"
   ]
  },
  {
   "cell_type": "markdown",
   "metadata": {},
   "source": [
    "由于大部分时间序列数据都是按照时间先后排序的，因此可以用不存在于该时间序列中的\n",
    "时间戳对其进行切片（即范围查询）："
   ]
  },
  {
   "cell_type": "code",
   "execution_count": 61,
   "metadata": {},
   "outputs": [
    {
     "data": {
      "text/plain": [
       "2011-01-02    0.380906\n",
       "2011-01-05   -0.276791\n",
       "2011-01-07   -1.516513\n",
       "2011-01-08    1.779521\n",
       "2011-01-10    0.796415\n",
       "2011-01-12   -0.419013\n",
       "dtype: float64"
      ]
     },
     "execution_count": 61,
     "metadata": {},
     "output_type": "execute_result"
    }
   ],
   "source": [
    "ts"
   ]
  },
  {
   "cell_type": "code",
   "execution_count": 63,
   "metadata": {},
   "outputs": [
    {
     "data": {
      "text/plain": [
       "2011-01-07   -1.516513\n",
       "2011-01-08    1.779521\n",
       "2011-01-10    0.796415\n",
       "dtype: float64"
      ]
     },
     "execution_count": 63,
     "metadata": {},
     "output_type": "execute_result"
    }
   ],
   "source": [
    "ts['2011-01-06':'2011-01-11']   # 等价于ts['1/6/2011':'1/11/2011']"
   ]
  },
  {
   "cell_type": "markdown",
   "metadata": {},
   "source": [
    "还有一个等价的实例方法也可以截取两个日期之间的TimeSeries："
   ]
  },
  {
   "cell_type": "code",
   "execution_count": 64,
   "metadata": {},
   "outputs": [
    {
     "data": {
      "text/plain": [
       "2011-01-02    0.380906\n",
       "2011-01-05   -0.276791\n",
       "2011-01-07   -1.516513\n",
       "2011-01-08    1.779521\n",
       "dtype: float64"
      ]
     },
     "execution_count": 64,
     "metadata": {},
     "output_type": "execute_result"
    }
   ],
   "source": [
    "ts.truncate(after = '1/9/2011')"
   ]
  },
  {
   "cell_type": "markdown",
   "metadata": {},
   "source": [
    "这些操作对DataFrame也有效，如对DataFrame的行进行索引："
   ]
  },
  {
   "cell_type": "code",
   "execution_count": 65,
   "metadata": {},
   "outputs": [
    {
     "data": {
      "text/html": [
       "<div>\n",
       "<style scoped>\n",
       "    .dataframe tbody tr th:only-of-type {\n",
       "        vertical-align: middle;\n",
       "    }\n",
       "\n",
       "    .dataframe tbody tr th {\n",
       "        vertical-align: top;\n",
       "    }\n",
       "\n",
       "    .dataframe thead th {\n",
       "        text-align: right;\n",
       "    }\n",
       "</style>\n",
       "<table border=\"1\" class=\"dataframe\">\n",
       "  <thead>\n",
       "    <tr style=\"text-align: right;\">\n",
       "      <th></th>\n",
       "      <th>Colorado</th>\n",
       "      <th>texas</th>\n",
       "      <th>NY</th>\n",
       "      <th>Ohip</th>\n",
       "    </tr>\n",
       "  </thead>\n",
       "  <tbody>\n",
       "    <tr>\n",
       "      <th>2000-01-05</th>\n",
       "      <td>-0.805182</td>\n",
       "      <td>-1.542770</td>\n",
       "      <td>0.382162</td>\n",
       "      <td>-0.395096</td>\n",
       "    </tr>\n",
       "    <tr>\n",
       "      <th>2000-01-12</th>\n",
       "      <td>1.134610</td>\n",
       "      <td>-0.466800</td>\n",
       "      <td>1.212198</td>\n",
       "      <td>0.889099</td>\n",
       "    </tr>\n",
       "    <tr>\n",
       "      <th>2000-01-19</th>\n",
       "      <td>-0.288055</td>\n",
       "      <td>-0.758024</td>\n",
       "      <td>-0.849322</td>\n",
       "      <td>-1.027380</td>\n",
       "    </tr>\n",
       "    <tr>\n",
       "      <th>2000-01-26</th>\n",
       "      <td>0.881601</td>\n",
       "      <td>0.141130</td>\n",
       "      <td>0.142010</td>\n",
       "      <td>-1.615215</td>\n",
       "    </tr>\n",
       "    <tr>\n",
       "      <th>2000-02-02</th>\n",
       "      <td>-2.252704</td>\n",
       "      <td>-1.004911</td>\n",
       "      <td>-0.538450</td>\n",
       "      <td>-0.194867</td>\n",
       "    </tr>\n",
       "    <tr>\n",
       "      <th>2000-02-09</th>\n",
       "      <td>0.611405</td>\n",
       "      <td>-0.278191</td>\n",
       "      <td>-0.394394</td>\n",
       "      <td>-0.203447</td>\n",
       "    </tr>\n",
       "    <tr>\n",
       "      <th>2000-02-16</th>\n",
       "      <td>-0.665616</td>\n",
       "      <td>1.347689</td>\n",
       "      <td>0.973286</td>\n",
       "      <td>1.706687</td>\n",
       "    </tr>\n",
       "    <tr>\n",
       "      <th>2000-02-23</th>\n",
       "      <td>-0.245537</td>\n",
       "      <td>1.429769</td>\n",
       "      <td>-0.268758</td>\n",
       "      <td>0.189155</td>\n",
       "    </tr>\n",
       "    <tr>\n",
       "      <th>2000-03-01</th>\n",
       "      <td>-1.913623</td>\n",
       "      <td>-0.411990</td>\n",
       "      <td>-0.368302</td>\n",
       "      <td>0.373306</td>\n",
       "    </tr>\n",
       "    <tr>\n",
       "      <th>2000-03-08</th>\n",
       "      <td>0.265479</td>\n",
       "      <td>0.941715</td>\n",
       "      <td>-0.443081</td>\n",
       "      <td>-1.454288</td>\n",
       "    </tr>\n",
       "    <tr>\n",
       "      <th>2000-03-15</th>\n",
       "      <td>-1.315731</td>\n",
       "      <td>-0.869383</td>\n",
       "      <td>0.430781</td>\n",
       "      <td>-0.085314</td>\n",
       "    </tr>\n",
       "    <tr>\n",
       "      <th>2000-03-22</th>\n",
       "      <td>-0.568440</td>\n",
       "      <td>0.223601</td>\n",
       "      <td>-0.176952</td>\n",
       "      <td>-0.211089</td>\n",
       "    </tr>\n",
       "    <tr>\n",
       "      <th>2000-03-29</th>\n",
       "      <td>-1.375272</td>\n",
       "      <td>1.066499</td>\n",
       "      <td>0.412279</td>\n",
       "      <td>-0.781418</td>\n",
       "    </tr>\n",
       "    <tr>\n",
       "      <th>2000-04-05</th>\n",
       "      <td>-0.253705</td>\n",
       "      <td>0.625859</td>\n",
       "      <td>-0.903097</td>\n",
       "      <td>0.198283</td>\n",
       "    </tr>\n",
       "    <tr>\n",
       "      <th>2000-04-12</th>\n",
       "      <td>-0.600423</td>\n",
       "      <td>0.382244</td>\n",
       "      <td>0.654314</td>\n",
       "      <td>-0.407650</td>\n",
       "    </tr>\n",
       "    <tr>\n",
       "      <th>2000-04-19</th>\n",
       "      <td>-0.418604</td>\n",
       "      <td>-0.988056</td>\n",
       "      <td>0.247330</td>\n",
       "      <td>0.994961</td>\n",
       "    </tr>\n",
       "    <tr>\n",
       "      <th>2000-04-26</th>\n",
       "      <td>0.217577</td>\n",
       "      <td>0.341546</td>\n",
       "      <td>0.838166</td>\n",
       "      <td>-0.119354</td>\n",
       "    </tr>\n",
       "    <tr>\n",
       "      <th>2000-05-03</th>\n",
       "      <td>0.881756</td>\n",
       "      <td>-0.300574</td>\n",
       "      <td>0.437600</td>\n",
       "      <td>-0.728493</td>\n",
       "    </tr>\n",
       "    <tr>\n",
       "      <th>2000-05-10</th>\n",
       "      <td>0.637616</td>\n",
       "      <td>1.154218</td>\n",
       "      <td>0.116177</td>\n",
       "      <td>0.276374</td>\n",
       "    </tr>\n",
       "    <tr>\n",
       "      <th>2000-05-17</th>\n",
       "      <td>0.383051</td>\n",
       "      <td>0.125843</td>\n",
       "      <td>-0.305397</td>\n",
       "      <td>-0.232030</td>\n",
       "    </tr>\n",
       "    <tr>\n",
       "      <th>2000-05-24</th>\n",
       "      <td>-0.174812</td>\n",
       "      <td>-1.038472</td>\n",
       "      <td>0.968197</td>\n",
       "      <td>-0.667535</td>\n",
       "    </tr>\n",
       "    <tr>\n",
       "      <th>2000-05-31</th>\n",
       "      <td>0.315194</td>\n",
       "      <td>-0.466181</td>\n",
       "      <td>1.420468</td>\n",
       "      <td>-0.113514</td>\n",
       "    </tr>\n",
       "    <tr>\n",
       "      <th>2000-06-07</th>\n",
       "      <td>0.821886</td>\n",
       "      <td>-0.715176</td>\n",
       "      <td>0.805984</td>\n",
       "      <td>0.757217</td>\n",
       "    </tr>\n",
       "    <tr>\n",
       "      <th>2000-06-14</th>\n",
       "      <td>-0.004476</td>\n",
       "      <td>-0.157856</td>\n",
       "      <td>0.959480</td>\n",
       "      <td>-0.053067</td>\n",
       "    </tr>\n",
       "    <tr>\n",
       "      <th>2000-06-21</th>\n",
       "      <td>0.131949</td>\n",
       "      <td>-0.897208</td>\n",
       "      <td>-0.912006</td>\n",
       "      <td>0.142637</td>\n",
       "    </tr>\n",
       "    <tr>\n",
       "      <th>2000-06-28</th>\n",
       "      <td>1.093032</td>\n",
       "      <td>-1.429917</td>\n",
       "      <td>1.876092</td>\n",
       "      <td>0.147349</td>\n",
       "    </tr>\n",
       "    <tr>\n",
       "      <th>2000-07-05</th>\n",
       "      <td>0.108231</td>\n",
       "      <td>-0.352462</td>\n",
       "      <td>-0.490872</td>\n",
       "      <td>0.289940</td>\n",
       "    </tr>\n",
       "    <tr>\n",
       "      <th>2000-07-12</th>\n",
       "      <td>1.900652</td>\n",
       "      <td>0.166059</td>\n",
       "      <td>0.060593</td>\n",
       "      <td>-1.684155</td>\n",
       "    </tr>\n",
       "    <tr>\n",
       "      <th>2000-07-19</th>\n",
       "      <td>0.133004</td>\n",
       "      <td>-0.887471</td>\n",
       "      <td>-1.457133</td>\n",
       "      <td>-1.022557</td>\n",
       "    </tr>\n",
       "    <tr>\n",
       "      <th>2000-07-26</th>\n",
       "      <td>0.046948</td>\n",
       "      <td>-0.187759</td>\n",
       "      <td>-0.109737</td>\n",
       "      <td>0.621892</td>\n",
       "    </tr>\n",
       "    <tr>\n",
       "      <th>...</th>\n",
       "      <td>...</td>\n",
       "      <td>...</td>\n",
       "      <td>...</td>\n",
       "      <td>...</td>\n",
       "    </tr>\n",
       "    <tr>\n",
       "      <th>2001-05-09</th>\n",
       "      <td>0.110485</td>\n",
       "      <td>-1.103557</td>\n",
       "      <td>0.529668</td>\n",
       "      <td>-0.451986</td>\n",
       "    </tr>\n",
       "    <tr>\n",
       "      <th>2001-05-16</th>\n",
       "      <td>-0.490583</td>\n",
       "      <td>0.839120</td>\n",
       "      <td>-0.079675</td>\n",
       "      <td>-0.599365</td>\n",
       "    </tr>\n",
       "    <tr>\n",
       "      <th>2001-05-23</th>\n",
       "      <td>0.395833</td>\n",
       "      <td>-0.561109</td>\n",
       "      <td>0.548563</td>\n",
       "      <td>-2.068128</td>\n",
       "    </tr>\n",
       "    <tr>\n",
       "      <th>2001-05-30</th>\n",
       "      <td>-1.064498</td>\n",
       "      <td>-0.787561</td>\n",
       "      <td>0.883396</td>\n",
       "      <td>-0.599602</td>\n",
       "    </tr>\n",
       "    <tr>\n",
       "      <th>2001-06-06</th>\n",
       "      <td>-0.327073</td>\n",
       "      <td>1.488389</td>\n",
       "      <td>-0.595932</td>\n",
       "      <td>0.409376</td>\n",
       "    </tr>\n",
       "    <tr>\n",
       "      <th>2001-06-13</th>\n",
       "      <td>-0.553857</td>\n",
       "      <td>1.755745</td>\n",
       "      <td>0.532506</td>\n",
       "      <td>0.578497</td>\n",
       "    </tr>\n",
       "    <tr>\n",
       "      <th>2001-06-20</th>\n",
       "      <td>-0.101255</td>\n",
       "      <td>-1.238606</td>\n",
       "      <td>0.363405</td>\n",
       "      <td>0.680094</td>\n",
       "    </tr>\n",
       "    <tr>\n",
       "      <th>2001-06-27</th>\n",
       "      <td>-1.431181</td>\n",
       "      <td>-0.019706</td>\n",
       "      <td>1.431404</td>\n",
       "      <td>0.739946</td>\n",
       "    </tr>\n",
       "    <tr>\n",
       "      <th>2001-07-04</th>\n",
       "      <td>0.777838</td>\n",
       "      <td>2.434819</td>\n",
       "      <td>0.489145</td>\n",
       "      <td>-1.634300</td>\n",
       "    </tr>\n",
       "    <tr>\n",
       "      <th>2001-07-11</th>\n",
       "      <td>0.947088</td>\n",
       "      <td>-2.429471</td>\n",
       "      <td>-0.395188</td>\n",
       "      <td>-0.493395</td>\n",
       "    </tr>\n",
       "    <tr>\n",
       "      <th>2001-07-18</th>\n",
       "      <td>-0.738389</td>\n",
       "      <td>-1.296007</td>\n",
       "      <td>1.956072</td>\n",
       "      <td>-0.150983</td>\n",
       "    </tr>\n",
       "    <tr>\n",
       "      <th>2001-07-25</th>\n",
       "      <td>-0.673401</td>\n",
       "      <td>1.430300</td>\n",
       "      <td>-0.689728</td>\n",
       "      <td>0.699273</td>\n",
       "    </tr>\n",
       "    <tr>\n",
       "      <th>2001-08-01</th>\n",
       "      <td>-0.486846</td>\n",
       "      <td>-0.980450</td>\n",
       "      <td>0.052791</td>\n",
       "      <td>-0.367049</td>\n",
       "    </tr>\n",
       "    <tr>\n",
       "      <th>2001-08-08</th>\n",
       "      <td>-1.241401</td>\n",
       "      <td>-2.154308</td>\n",
       "      <td>0.320805</td>\n",
       "      <td>-0.448208</td>\n",
       "    </tr>\n",
       "    <tr>\n",
       "      <th>2001-08-15</th>\n",
       "      <td>1.352654</td>\n",
       "      <td>0.784679</td>\n",
       "      <td>0.892055</td>\n",
       "      <td>0.533378</td>\n",
       "    </tr>\n",
       "    <tr>\n",
       "      <th>2001-08-22</th>\n",
       "      <td>0.503379</td>\n",
       "      <td>1.106215</td>\n",
       "      <td>0.315576</td>\n",
       "      <td>-0.485751</td>\n",
       "    </tr>\n",
       "    <tr>\n",
       "      <th>2001-08-29</th>\n",
       "      <td>-0.633156</td>\n",
       "      <td>-1.124174</td>\n",
       "      <td>1.477972</td>\n",
       "      <td>-0.524121</td>\n",
       "    </tr>\n",
       "    <tr>\n",
       "      <th>2001-09-05</th>\n",
       "      <td>-0.530041</td>\n",
       "      <td>0.213134</td>\n",
       "      <td>1.164422</td>\n",
       "      <td>0.179360</td>\n",
       "    </tr>\n",
       "    <tr>\n",
       "      <th>2001-09-12</th>\n",
       "      <td>0.283466</td>\n",
       "      <td>1.215262</td>\n",
       "      <td>-0.229073</td>\n",
       "      <td>1.606219</td>\n",
       "    </tr>\n",
       "    <tr>\n",
       "      <th>2001-09-19</th>\n",
       "      <td>1.456586</td>\n",
       "      <td>1.120412</td>\n",
       "      <td>-1.907754</td>\n",
       "      <td>0.909310</td>\n",
       "    </tr>\n",
       "    <tr>\n",
       "      <th>2001-09-26</th>\n",
       "      <td>-0.398053</td>\n",
       "      <td>-0.484266</td>\n",
       "      <td>-1.130086</td>\n",
       "      <td>1.040049</td>\n",
       "    </tr>\n",
       "    <tr>\n",
       "      <th>2001-10-03</th>\n",
       "      <td>-0.609648</td>\n",
       "      <td>3.078585</td>\n",
       "      <td>1.204207</td>\n",
       "      <td>-1.632815</td>\n",
       "    </tr>\n",
       "    <tr>\n",
       "      <th>2001-10-10</th>\n",
       "      <td>-0.589529</td>\n",
       "      <td>-0.551804</td>\n",
       "      <td>1.273425</td>\n",
       "      <td>-0.870375</td>\n",
       "    </tr>\n",
       "    <tr>\n",
       "      <th>2001-10-17</th>\n",
       "      <td>0.764505</td>\n",
       "      <td>2.070617</td>\n",
       "      <td>0.607804</td>\n",
       "      <td>-0.264850</td>\n",
       "    </tr>\n",
       "    <tr>\n",
       "      <th>2001-10-24</th>\n",
       "      <td>-0.848105</td>\n",
       "      <td>-0.324480</td>\n",
       "      <td>-0.719903</td>\n",
       "      <td>0.447390</td>\n",
       "    </tr>\n",
       "    <tr>\n",
       "      <th>2001-10-31</th>\n",
       "      <td>0.653066</td>\n",
       "      <td>-0.922621</td>\n",
       "      <td>0.757114</td>\n",
       "      <td>-2.538364</td>\n",
       "    </tr>\n",
       "    <tr>\n",
       "      <th>2001-11-07</th>\n",
       "      <td>0.313773</td>\n",
       "      <td>2.279531</td>\n",
       "      <td>-1.012937</td>\n",
       "      <td>0.081946</td>\n",
       "    </tr>\n",
       "    <tr>\n",
       "      <th>2001-11-14</th>\n",
       "      <td>0.826276</td>\n",
       "      <td>-1.314945</td>\n",
       "      <td>1.135393</td>\n",
       "      <td>0.256921</td>\n",
       "    </tr>\n",
       "    <tr>\n",
       "      <th>2001-11-21</th>\n",
       "      <td>0.601801</td>\n",
       "      <td>-1.489333</td>\n",
       "      <td>-0.200166</td>\n",
       "      <td>1.967398</td>\n",
       "    </tr>\n",
       "    <tr>\n",
       "      <th>2001-11-28</th>\n",
       "      <td>-0.437022</td>\n",
       "      <td>0.413003</td>\n",
       "      <td>-0.842652</td>\n",
       "      <td>-0.017226</td>\n",
       "    </tr>\n",
       "  </tbody>\n",
       "</table>\n",
       "<p>100 rows × 4 columns</p>\n",
       "</div>"
      ],
      "text/plain": [
       "            Colorado     texas        NY      Ohip\n",
       "2000-01-05 -0.805182 -1.542770  0.382162 -0.395096\n",
       "2000-01-12  1.134610 -0.466800  1.212198  0.889099\n",
       "2000-01-19 -0.288055 -0.758024 -0.849322 -1.027380\n",
       "2000-01-26  0.881601  0.141130  0.142010 -1.615215\n",
       "2000-02-02 -2.252704 -1.004911 -0.538450 -0.194867\n",
       "2000-02-09  0.611405 -0.278191 -0.394394 -0.203447\n",
       "2000-02-16 -0.665616  1.347689  0.973286  1.706687\n",
       "2000-02-23 -0.245537  1.429769 -0.268758  0.189155\n",
       "2000-03-01 -1.913623 -0.411990 -0.368302  0.373306\n",
       "2000-03-08  0.265479  0.941715 -0.443081 -1.454288\n",
       "2000-03-15 -1.315731 -0.869383  0.430781 -0.085314\n",
       "2000-03-22 -0.568440  0.223601 -0.176952 -0.211089\n",
       "2000-03-29 -1.375272  1.066499  0.412279 -0.781418\n",
       "2000-04-05 -0.253705  0.625859 -0.903097  0.198283\n",
       "2000-04-12 -0.600423  0.382244  0.654314 -0.407650\n",
       "2000-04-19 -0.418604 -0.988056  0.247330  0.994961\n",
       "2000-04-26  0.217577  0.341546  0.838166 -0.119354\n",
       "2000-05-03  0.881756 -0.300574  0.437600 -0.728493\n",
       "2000-05-10  0.637616  1.154218  0.116177  0.276374\n",
       "2000-05-17  0.383051  0.125843 -0.305397 -0.232030\n",
       "2000-05-24 -0.174812 -1.038472  0.968197 -0.667535\n",
       "2000-05-31  0.315194 -0.466181  1.420468 -0.113514\n",
       "2000-06-07  0.821886 -0.715176  0.805984  0.757217\n",
       "2000-06-14 -0.004476 -0.157856  0.959480 -0.053067\n",
       "2000-06-21  0.131949 -0.897208 -0.912006  0.142637\n",
       "2000-06-28  1.093032 -1.429917  1.876092  0.147349\n",
       "2000-07-05  0.108231 -0.352462 -0.490872  0.289940\n",
       "2000-07-12  1.900652  0.166059  0.060593 -1.684155\n",
       "2000-07-19  0.133004 -0.887471 -1.457133 -1.022557\n",
       "2000-07-26  0.046948 -0.187759 -0.109737  0.621892\n",
       "...              ...       ...       ...       ...\n",
       "2001-05-09  0.110485 -1.103557  0.529668 -0.451986\n",
       "2001-05-16 -0.490583  0.839120 -0.079675 -0.599365\n",
       "2001-05-23  0.395833 -0.561109  0.548563 -2.068128\n",
       "2001-05-30 -1.064498 -0.787561  0.883396 -0.599602\n",
       "2001-06-06 -0.327073  1.488389 -0.595932  0.409376\n",
       "2001-06-13 -0.553857  1.755745  0.532506  0.578497\n",
       "2001-06-20 -0.101255 -1.238606  0.363405  0.680094\n",
       "2001-06-27 -1.431181 -0.019706  1.431404  0.739946\n",
       "2001-07-04  0.777838  2.434819  0.489145 -1.634300\n",
       "2001-07-11  0.947088 -2.429471 -0.395188 -0.493395\n",
       "2001-07-18 -0.738389 -1.296007  1.956072 -0.150983\n",
       "2001-07-25 -0.673401  1.430300 -0.689728  0.699273\n",
       "2001-08-01 -0.486846 -0.980450  0.052791 -0.367049\n",
       "2001-08-08 -1.241401 -2.154308  0.320805 -0.448208\n",
       "2001-08-15  1.352654  0.784679  0.892055  0.533378\n",
       "2001-08-22  0.503379  1.106215  0.315576 -0.485751\n",
       "2001-08-29 -0.633156 -1.124174  1.477972 -0.524121\n",
       "2001-09-05 -0.530041  0.213134  1.164422  0.179360\n",
       "2001-09-12  0.283466  1.215262 -0.229073  1.606219\n",
       "2001-09-19  1.456586  1.120412 -1.907754  0.909310\n",
       "2001-09-26 -0.398053 -0.484266 -1.130086  1.040049\n",
       "2001-10-03 -0.609648  3.078585  1.204207 -1.632815\n",
       "2001-10-10 -0.589529 -0.551804  1.273425 -0.870375\n",
       "2001-10-17  0.764505  2.070617  0.607804 -0.264850\n",
       "2001-10-24 -0.848105 -0.324480 -0.719903  0.447390\n",
       "2001-10-31  0.653066 -0.922621  0.757114 -2.538364\n",
       "2001-11-07  0.313773  2.279531 -1.012937  0.081946\n",
       "2001-11-14  0.826276 -1.314945  1.135393  0.256921\n",
       "2001-11-21  0.601801 -1.489333 -0.200166  1.967398\n",
       "2001-11-28 -0.437022  0.413003 -0.842652 -0.017226\n",
       "\n",
       "[100 rows x 4 columns]"
      ]
     },
     "execution_count": 65,
     "metadata": {},
     "output_type": "execute_result"
    }
   ],
   "source": [
    "dates = pd.date_range('1/1/2000',periods = 100,freq = 'W-WED')\n",
    "long_df = pd.DataFrame(np.random.randn(100,4),index = dates,\n",
    "                      columns = ['Colorado','texas','NY','Ohip'])\n",
    "long_df"
   ]
  },
  {
   "cell_type": "code",
   "execution_count": 67,
   "metadata": {},
   "outputs": [
    {
     "data": {
      "text/html": [
       "<div>\n",
       "<style scoped>\n",
       "    .dataframe tbody tr th:only-of-type {\n",
       "        vertical-align: middle;\n",
       "    }\n",
       "\n",
       "    .dataframe tbody tr th {\n",
       "        vertical-align: top;\n",
       "    }\n",
       "\n",
       "    .dataframe thead th {\n",
       "        text-align: right;\n",
       "    }\n",
       "</style>\n",
       "<table border=\"1\" class=\"dataframe\">\n",
       "  <thead>\n",
       "    <tr style=\"text-align: right;\">\n",
       "      <th></th>\n",
       "      <th>Colorado</th>\n",
       "      <th>texas</th>\n",
       "      <th>NY</th>\n",
       "      <th>Ohip</th>\n",
       "    </tr>\n",
       "  </thead>\n",
       "  <tbody>\n",
       "    <tr>\n",
       "      <th>2001-05-02</th>\n",
       "      <td>-1.781847</td>\n",
       "      <td>0.026045</td>\n",
       "      <td>0.810871</td>\n",
       "      <td>-0.003942</td>\n",
       "    </tr>\n",
       "    <tr>\n",
       "      <th>2001-05-09</th>\n",
       "      <td>0.110485</td>\n",
       "      <td>-1.103557</td>\n",
       "      <td>0.529668</td>\n",
       "      <td>-0.451986</td>\n",
       "    </tr>\n",
       "    <tr>\n",
       "      <th>2001-05-16</th>\n",
       "      <td>-0.490583</td>\n",
       "      <td>0.839120</td>\n",
       "      <td>-0.079675</td>\n",
       "      <td>-0.599365</td>\n",
       "    </tr>\n",
       "    <tr>\n",
       "      <th>2001-05-23</th>\n",
       "      <td>0.395833</td>\n",
       "      <td>-0.561109</td>\n",
       "      <td>0.548563</td>\n",
       "      <td>-2.068128</td>\n",
       "    </tr>\n",
       "    <tr>\n",
       "      <th>2001-05-30</th>\n",
       "      <td>-1.064498</td>\n",
       "      <td>-0.787561</td>\n",
       "      <td>0.883396</td>\n",
       "      <td>-0.599602</td>\n",
       "    </tr>\n",
       "  </tbody>\n",
       "</table>\n",
       "</div>"
      ],
      "text/plain": [
       "            Colorado     texas        NY      Ohip\n",
       "2001-05-02 -1.781847  0.026045  0.810871 -0.003942\n",
       "2001-05-09  0.110485 -1.103557  0.529668 -0.451986\n",
       "2001-05-16 -0.490583  0.839120 -0.079675 -0.599365\n",
       "2001-05-23  0.395833 -0.561109  0.548563 -2.068128\n",
       "2001-05-30 -1.064498 -0.787561  0.883396 -0.599602"
      ]
     },
     "execution_count": 67,
     "metadata": {},
     "output_type": "execute_result"
    }
   ],
   "source": [
    "long_df.loc['5-2001']"
   ]
  },
  {
   "cell_type": "markdown",
   "metadata": {},
   "source": [
    "# 带有重复索引的时间序列"
   ]
  },
  {
   "cell_type": "markdown",
   "metadata": {},
   "source": [
    "在某些应用场景中，可能会存在多个观测数据落在同一个时间点上的情况："
   ]
  },
  {
   "cell_type": "code",
   "execution_count": 70,
   "metadata": {},
   "outputs": [
    {
     "data": {
      "text/plain": [
       "2000-01-01    0\n",
       "2000-01-02    1\n",
       "2000-01-02    2\n",
       "2000-01-02    3\n",
       "2000-01-03    4\n",
       "dtype: int32"
      ]
     },
     "execution_count": 70,
     "metadata": {},
     "output_type": "execute_result"
    }
   ],
   "source": [
    "dates = pd.DatetimeIndex(['1/1/2000','1/2/2000','1/2/2000','1/2/2000','1/3/2000'])\n",
    "dup_ts = pd.Series(np.arange(5),index = dates)\n",
    "dup_ts"
   ]
  },
  {
   "cell_type": "markdown",
   "metadata": {},
   "source": [
    "通过检查索引的is_unique属性，我们就可以知道它是不是唯一的："
   ]
  },
  {
   "cell_type": "code",
   "execution_count": 72,
   "metadata": {},
   "outputs": [
    {
     "data": {
      "text/plain": [
       "False"
      ]
     },
     "execution_count": 72,
     "metadata": {},
     "output_type": "execute_result"
    }
   ],
   "source": [
    "dup_ts.index.is_unique"
   ]
  },
  {
   "cell_type": "markdown",
   "metadata": {},
   "source": [
    "对这个时间序列进行索引，要么产生标量值，要么产生切片，具体要看所选的时间点是否重复："
   ]
  },
  {
   "cell_type": "code",
   "execution_count": 74,
   "metadata": {},
   "outputs": [
    {
     "data": {
      "text/plain": [
       "4"
      ]
     },
     "execution_count": 74,
     "metadata": {},
     "output_type": "execute_result"
    }
   ],
   "source": [
    "dup_ts['1/3/2000']  # 无重复"
   ]
  },
  {
   "cell_type": "code",
   "execution_count": 75,
   "metadata": {},
   "outputs": [
    {
     "data": {
      "text/plain": [
       "2000-01-02    1\n",
       "2000-01-02    2\n",
       "2000-01-02    3\n",
       "dtype: int32"
      ]
     },
     "execution_count": 75,
     "metadata": {},
     "output_type": "execute_result"
    }
   ],
   "source": [
    "dup_ts['1/2/2000']   # 有重复"
   ]
  },
  {
   "cell_type": "markdown",
   "metadata": {},
   "source": [
    "假设想要具有非唯一时间戳的数据进行聚合。一个办法是使用groupby，并传入level=0："
   ]
  },
  {
   "cell_type": "code",
   "execution_count": 78,
   "metadata": {},
   "outputs": [
    {
     "data": {
      "text/plain": [
       "2000-01-01    0\n",
       "2000-01-02    2\n",
       "2000-01-03    4\n",
       "dtype: int32"
      ]
     },
     "execution_count": 78,
     "metadata": {},
     "output_type": "execute_result"
    }
   ],
   "source": [
    "grouped = dup_ts.groupby(level=0)   # level 分组级别  level = 0 表示按照第一列分组\n",
    "grouped.mean()"
   ]
  },
  {
   "cell_type": "code",
   "execution_count": 79,
   "metadata": {},
   "outputs": [
    {
     "data": {
      "text/plain": [
       "2000-01-01    1\n",
       "2000-01-02    3\n",
       "2000-01-03    1\n",
       "dtype: int64"
      ]
     },
     "execution_count": 79,
     "metadata": {},
     "output_type": "execute_result"
    }
   ],
   "source": [
    "grouped.count()"
   ]
  },
  {
   "cell_type": "markdown",
   "metadata": {},
   "source": [
    "# 日期的范围、频率以及移动"
   ]
  },
  {
   "cell_type": "code",
   "execution_count": 80,
   "metadata": {},
   "outputs": [
    {
     "data": {
      "text/plain": [
       "2011-01-02    0.380906\n",
       "2011-01-05   -0.276791\n",
       "2011-01-07   -1.516513\n",
       "2011-01-08    1.779521\n",
       "2011-01-10    0.796415\n",
       "2011-01-12   -0.419013\n",
       "dtype: float64"
      ]
     },
     "execution_count": 80,
     "metadata": {},
     "output_type": "execute_result"
    }
   ],
   "source": [
    "ts"
   ]
  },
  {
   "cell_type": "code",
   "execution_count": 81,
   "metadata": {},
   "outputs": [
    {
     "data": {
      "text/plain": [
       "DatetimeIndexResampler [freq=<Day>, axis=0, closed=left, label=left, convention=start, base=0]"
      ]
     },
     "execution_count": 81,
     "metadata": {},
     "output_type": "execute_result"
    }
   ],
   "source": [
    "resampler = ts.resample('D')\n",
    "resampler"
   ]
  },
  {
   "cell_type": "markdown",
   "metadata": {},
   "source": [
    "# 生成日期范围"
   ]
  },
  {
   "cell_type": "markdown",
   "metadata": {},
   "source": [
    "pandas.date_range可用于根据指定的频率生成指定长度的DatetimeIndex："
   ]
  },
  {
   "cell_type": "code",
   "execution_count": 82,
   "metadata": {},
   "outputs": [
    {
     "data": {
      "text/plain": [
       "DatetimeIndex(['2012-04-01', '2012-04-02', '2012-04-03', '2012-04-04',\n",
       "               '2012-04-05', '2012-04-06', '2012-04-07', '2012-04-08',\n",
       "               '2012-04-09', '2012-04-10', '2012-04-11', '2012-04-12',\n",
       "               '2012-04-13', '2012-04-14', '2012-04-15', '2012-04-16',\n",
       "               '2012-04-17', '2012-04-18', '2012-04-19', '2012-04-20',\n",
       "               '2012-04-21', '2012-04-22', '2012-04-23', '2012-04-24',\n",
       "               '2012-04-25', '2012-04-26', '2012-04-27', '2012-04-28',\n",
       "               '2012-04-29', '2012-04-30', '2012-05-01', '2012-05-02',\n",
       "               '2012-05-03', '2012-05-04', '2012-05-05', '2012-05-06',\n",
       "               '2012-05-07', '2012-05-08', '2012-05-09', '2012-05-10',\n",
       "               '2012-05-11', '2012-05-12', '2012-05-13', '2012-05-14',\n",
       "               '2012-05-15', '2012-05-16', '2012-05-17', '2012-05-18',\n",
       "               '2012-05-19', '2012-05-20', '2012-05-21', '2012-05-22',\n",
       "               '2012-05-23', '2012-05-24', '2012-05-25', '2012-05-26',\n",
       "               '2012-05-27', '2012-05-28', '2012-05-29', '2012-05-30',\n",
       "               '2012-05-31', '2012-06-01'],\n",
       "              dtype='datetime64[ns]', freq='D')"
      ]
     },
     "execution_count": 82,
     "metadata": {},
     "output_type": "execute_result"
    }
   ],
   "source": [
    "index = pd.date_range('4/1/2012','6/1/2012')\n",
    "index"
   ]
  },
  {
   "cell_type": "markdown",
   "metadata": {},
   "source": [
    "默认情况下，date_range会产生按天计算的时间点。如果只传入起始或结束日期，那\n",
    "就还得传入一个表示一段时间的数字："
   ]
  },
  {
   "cell_type": "code",
   "execution_count": 83,
   "metadata": {},
   "outputs": [
    {
     "data": {
      "text/plain": [
       "DatetimeIndex(['2012-01-02', '2012-01-03', '2012-01-04', '2012-01-05',\n",
       "               '2012-01-06', '2012-01-07', '2012-01-08', '2012-01-09',\n",
       "               '2012-01-10', '2012-01-11', '2012-01-12', '2012-01-13',\n",
       "               '2012-01-14', '2012-01-15', '2012-01-16', '2012-01-17',\n",
       "               '2012-01-18', '2012-01-19', '2012-01-20', '2012-01-21'],\n",
       "              dtype='datetime64[ns]', freq='D')"
      ]
     },
     "execution_count": 83,
     "metadata": {},
     "output_type": "execute_result"
    }
   ],
   "source": [
    "pd.date_range(start = '2012-01-02',periods=20)   # periods 表示生成多少个日期"
   ]
  },
  {
   "cell_type": "code",
   "execution_count": 85,
   "metadata": {},
   "outputs": [
    {
     "data": {
      "text/plain": [
       "DatetimeIndex(['2012-05-13', '2012-05-14', '2012-05-15', '2012-05-16',\n",
       "               '2012-05-17', '2012-05-18', '2012-05-19', '2012-05-20',\n",
       "               '2012-05-21', '2012-05-22', '2012-05-23', '2012-05-24',\n",
       "               '2012-05-25', '2012-05-26', '2012-05-27', '2012-05-28',\n",
       "               '2012-05-29', '2012-05-30', '2012-05-31', '2012-06-01'],\n",
       "              dtype='datetime64[ns]', freq='D')"
      ]
     },
     "execution_count": 85,
     "metadata": {},
     "output_type": "execute_result"
    }
   ],
   "source": [
    "pd.date_range(end='2012-06-01',periods = 20)   # start   end  periods 至少选取其二"
   ]
  },
  {
   "cell_type": "markdown",
   "metadata": {},
   "source": [
    "起始和结束日期定义了日期索引的严格边界。例如，如果你想要生成一个由每月最后一个工作日\n",
    "组成的日期索引，可以传入‘BM’频率（表示business  end  of  mouth），这样就会\n",
    "只包含时间间隔内（或刚好在边界上的）符合频率要求的日期："
   ]
  },
  {
   "cell_type": "code",
   "execution_count": 3,
   "metadata": {},
   "outputs": [
    {
     "data": {
      "text/plain": [
       "DatetimeIndex(['2000-01-31', '2000-02-29', '2000-03-31', '2000-04-28',\n",
       "               '2000-05-31', '2000-06-30', '2000-07-31', '2000-08-31',\n",
       "               '2000-09-29', '2000-10-31', '2000-11-30'],\n",
       "              dtype='datetime64[ns]', freq='BM')"
      ]
     },
     "execution_count": 3,
     "metadata": {},
     "output_type": "execute_result"
    }
   ],
   "source": [
    "pd.date_range('2000-01-01','2000-12-01',freq = 'BM')"
   ]
  },
  {
   "cell_type": "markdown",
   "metadata": {},
   "source": [
    "date_range默认会保留起始和结束时间戳的时间信息（如果有的话）："
   ]
  },
  {
   "cell_type": "code",
   "execution_count": 4,
   "metadata": {},
   "outputs": [
    {
     "data": {
      "text/plain": [
       "DatetimeIndex(['2012-05-02 12:56:31', '2012-05-03 12:56:31',\n",
       "               '2012-05-04 12:56:31', '2012-05-05 12:56:31',\n",
       "               '2012-05-06 12:56:31'],\n",
       "              dtype='datetime64[ns]', freq='D')"
      ]
     },
     "execution_count": 4,
     "metadata": {},
     "output_type": "execute_result"
    }
   ],
   "source": [
    "pd.date_range('2012-05-02 12:56:31',periods=5)"
   ]
  },
  {
   "cell_type": "markdown",
   "metadata": {},
   "source": [
    "若希望产生一组被规范化（normalize）到午夜的时间戳，normalize可以实现该功能："
   ]
  },
  {
   "cell_type": "code",
   "execution_count": 5,
   "metadata": {},
   "outputs": [
    {
     "data": {
      "text/plain": [
       "DatetimeIndex(['2012-05-02', '2012-05-03', '2012-05-04', '2012-05-05',\n",
       "               '2012-05-06'],\n",
       "              dtype='datetime64[ns]', freq='D')"
      ]
     },
     "execution_count": 5,
     "metadata": {},
     "output_type": "execute_result"
    }
   ],
   "source": [
    "pd.date_range('2012-05-02 12:56:31',periods=5,normalize=True)\n"
   ]
  },
  {
   "cell_type": "markdown",
   "metadata": {},
   "source": [
    "# 频率和日期偏移量"
   ]
  },
  {
   "cell_type": "markdown",
   "metadata": {},
   "source": [
    "在基础频率前面放上一个整数即可创建倍数："
   ]
  },
  {
   "cell_type": "code",
   "execution_count": 7,
   "metadata": {},
   "outputs": [
    {
     "data": {
      "text/plain": [
       "DatetimeIndex(['2000-01-01 00:00:00', '2000-01-01 04:00:00',\n",
       "               '2000-01-01 08:00:00', '2000-01-01 12:00:00',\n",
       "               '2000-01-01 16:00:00', '2000-01-01 20:00:00',\n",
       "               '2000-01-02 00:00:00', '2000-01-02 04:00:00',\n",
       "               '2000-01-02 08:00:00', '2000-01-02 12:00:00',\n",
       "               '2000-01-02 16:00:00', '2000-01-02 20:00:00',\n",
       "               '2000-01-03 00:00:00', '2000-01-03 04:00:00',\n",
       "               '2000-01-03 08:00:00', '2000-01-03 12:00:00',\n",
       "               '2000-01-03 16:00:00', '2000-01-03 20:00:00'],\n",
       "              dtype='datetime64[ns]', freq='4H')"
      ]
     },
     "execution_count": 7,
     "metadata": {},
     "output_type": "execute_result"
    }
   ],
   "source": [
    "pd.date_range('2000-01-01','2000-01-03 23:59',freq = '4h')"
   ]
  },
  {
   "cell_type": "markdown",
   "metadata": {},
   "source": [
    "# WOM日期"
   ]
  },
  {
   "cell_type": "markdown",
   "metadata": {},
   "source": [
    "WOM(Week Of Month)，以WOM开头能获得诸如‘每月 第3个星期五’之类的日期：\n",
    "（即每月第几个星期几）"
   ]
  },
  {
   "cell_type": "code",
   "execution_count": 8,
   "metadata": {},
   "outputs": [
    {
     "data": {
      "text/plain": [
       "DatetimeIndex(['2012-01-20', '2012-02-17', '2012-03-16', '2012-04-20',\n",
       "               '2012-05-18', '2012-06-15', '2012-07-20', '2012-08-17'],\n",
       "              dtype='datetime64[ns]', freq='WOM-3FRI')"
      ]
     },
     "execution_count": 8,
     "metadata": {},
     "output_type": "execute_result"
    }
   ],
   "source": [
    "rng = pd.date_range('2012-01-01','2012-09-01',freq = 'WOM-3FRI')\n",
    "rng"
   ]
  },
  {
   "cell_type": "code",
   "execution_count": 9,
   "metadata": {},
   "outputs": [
    {
     "data": {
      "text/plain": [
       "[Timestamp('2012-01-20 00:00:00', freq='WOM-3FRI'),\n",
       " Timestamp('2012-02-17 00:00:00', freq='WOM-3FRI'),\n",
       " Timestamp('2012-03-16 00:00:00', freq='WOM-3FRI'),\n",
       " Timestamp('2012-04-20 00:00:00', freq='WOM-3FRI'),\n",
       " Timestamp('2012-05-18 00:00:00', freq='WOM-3FRI'),\n",
       " Timestamp('2012-06-15 00:00:00', freq='WOM-3FRI'),\n",
       " Timestamp('2012-07-20 00:00:00', freq='WOM-3FRI'),\n",
       " Timestamp('2012-08-17 00:00:00', freq='WOM-3FRI')]"
      ]
     },
     "execution_count": 9,
     "metadata": {},
     "output_type": "execute_result"
    }
   ],
   "source": [
    "list(rng)"
   ]
  },
  {
   "cell_type": "markdown",
   "metadata": {},
   "source": [
    "# 移动（超前或滞后）数据"
   ]
  },
  {
   "cell_type": "markdown",
   "metadata": {},
   "source": [
    "移动（shifting）指的是沿着时间轴将数据前移或后移。（数据移动）\n",
    "Series和DataFrame都有一个shift方法用于执行单纯的前移或后移操作，保持索引不变！"
   ]
  },
  {
   "cell_type": "code",
   "execution_count": 11,
   "metadata": {},
   "outputs": [
    {
     "data": {
      "text/plain": [
       "2000-01-31    0.410883\n",
       "2000-02-29    0.062279\n",
       "2000-03-31    1.123713\n",
       "2000-04-30   -0.008231\n",
       "Freq: M, dtype: float64"
      ]
     },
     "execution_count": 11,
     "metadata": {},
     "output_type": "execute_result"
    }
   ],
   "source": [
    "ts = pd.Series(np.random.randn(4),index = pd.date_range('1/1/2000',periods=4,freq='M'))\n",
    "ts        #    freq = 'M'  指每月最后一个日历日"
   ]
  },
  {
   "cell_type": "code",
   "execution_count": 12,
   "metadata": {},
   "outputs": [
    {
     "data": {
      "text/plain": [
       "2000-01-31         NaN\n",
       "2000-02-29         NaN\n",
       "2000-03-31    0.410883\n",
       "2000-04-30    0.062279\n",
       "Freq: M, dtype: float64"
      ]
     },
     "execution_count": 12,
     "metadata": {},
     "output_type": "execute_result"
    }
   ],
   "source": [
    "ts.shift(2)     # shift（a） 整数表示数据往前移动a位，索引不变，产生缺失数据为NaN"
   ]
  },
  {
   "cell_type": "code",
   "execution_count": 13,
   "metadata": {},
   "outputs": [
    {
     "data": {
      "text/plain": [
       "2000-01-31    1.123713\n",
       "2000-02-29   -0.008231\n",
       "2000-03-31         NaN\n",
       "2000-04-30         NaN\n",
       "Freq: M, dtype: float64"
      ]
     },
     "execution_count": 13,
     "metadata": {},
     "output_type": "execute_result"
    }
   ],
   "source": [
    "ts.shift(-2)"
   ]
  },
  {
   "cell_type": "markdown",
   "metadata": {},
   "source": [
    "shift通常用于计算一个时间序列或多个时间序列（如DataFrame的列）中的百分比变化。\n",
    "可以这样表达："
   ]
  },
  {
   "cell_type": "code",
   "execution_count": 14,
   "metadata": {},
   "outputs": [
    {
     "data": {
      "text/plain": [
       "2000-01-31          NaN\n",
       "2000-02-29    -0.848427\n",
       "2000-03-31    17.043231\n",
       "2000-04-30    -1.007325\n",
       "Freq: M, dtype: float64"
      ]
     },
     "execution_count": 14,
     "metadata": {},
     "output_type": "execute_result"
    }
   ],
   "source": [
    "ts/ts.shift(1)-1"
   ]
  },
  {
   "cell_type": "markdown",
   "metadata": {},
   "source": [
    "由于单纯的移位操作不会修改索引，所以部分数据会丢弃。因此，如果频率已知，则可将其传给\n",
    "shift以便时间对时间戳进行位移而不是对数据进行简单位移："
   ]
  },
  {
   "cell_type": "code",
   "execution_count": 15,
   "metadata": {},
   "outputs": [
    {
     "data": {
      "text/plain": [
       "2000-03-31    0.410883\n",
       "2000-04-30    0.062279\n",
       "2000-05-31    1.123713\n",
       "2000-06-30   -0.008231\n",
       "Freq: M, dtype: float64"
      ]
     },
     "execution_count": 15,
     "metadata": {},
     "output_type": "execute_result"
    }
   ],
   "source": [
    "ts.shift(2,freq = 'M')  # 时间戳索引上移（数据下移），保持数据无丢弃（无NaN）"
   ]
  },
  {
   "cell_type": "code",
   "execution_count": 16,
   "metadata": {},
   "outputs": [
    {
     "data": {
      "text/plain": [
       "2000-02-03    0.410883\n",
       "2000-03-03    0.062279\n",
       "2000-04-03    1.123713\n",
       "2000-05-03   -0.008231\n",
       "dtype: float64"
      ]
     },
     "execution_count": 16,
     "metadata": {},
     "output_type": "execute_result"
    }
   ],
   "source": [
    "ts.shift(3,freq = 'D')   #  1/31 + 3 D = 02-03"
   ]
  },
  {
   "cell_type": "code",
   "execution_count": 17,
   "metadata": {},
   "outputs": [
    {
     "data": {
      "text/plain": [
       "2000-01-31 01:30:00    0.410883\n",
       "2000-02-29 01:30:00    0.062279\n",
       "2000-03-31 01:30:00    1.123713\n",
       "2000-04-30 01:30:00   -0.008231\n",
       "Freq: M, dtype: float64"
      ]
     },
     "execution_count": 17,
     "metadata": {},
     "output_type": "execute_result"
    }
   ],
   "source": [
    "ts.shift(1,freq = '90T')  # 90T 90分钟"
   ]
  },
  {
   "cell_type": "markdown",
   "metadata": {},
   "source": [
    "# 通过偏移量对日期进行位移"
   ]
  },
  {
   "cell_type": "markdown",
   "metadata": {},
   "source": [
    "pandas的日期偏移量还可以用在datetime或Timestamp对象上："
   ]
  },
  {
   "cell_type": "code",
   "execution_count": 20,
   "metadata": {},
   "outputs": [
    {
     "data": {
      "text/plain": [
       "Timestamp('2011-11-20 00:00:00')"
      ]
     },
     "execution_count": 20,
     "metadata": {},
     "output_type": "execute_result"
    }
   ],
   "source": [
    "from pandas.tseries.offsets import Day,MonthEnd\n",
    "now = datetime(2011,11,17)\n",
    "now + 3*Day()"
   ]
  },
  {
   "cell_type": "markdown",
   "metadata": {},
   "source": [
    "如果加的是锚点偏移量（比如MonthEnd），第一次增量会将原日期向前滚动到符合\n",
    "频率规则的下一个日期："
   ]
  },
  {
   "cell_type": "code",
   "execution_count": null,
   "metadata": {},
   "outputs": [],
   "source": [
    "now+"
   ]
  },
  {
   "cell_type": "code",
   "execution_count": null,
   "metadata": {},
   "outputs": [],
   "source": []
  },
  {
   "cell_type": "code",
   "execution_count": null,
   "metadata": {},
   "outputs": [],
   "source": []
  },
  {
   "cell_type": "code",
   "execution_count": null,
   "metadata": {},
   "outputs": [],
   "source": []
  },
  {
   "cell_type": "code",
   "execution_count": null,
   "metadata": {},
   "outputs": [],
   "source": []
  },
  {
   "cell_type": "code",
   "execution_count": null,
   "metadata": {},
   "outputs": [],
   "source": []
  },
  {
   "cell_type": "code",
   "execution_count": null,
   "metadata": {},
   "outputs": [],
   "source": []
  },
  {
   "cell_type": "code",
   "execution_count": null,
   "metadata": {},
   "outputs": [],
   "source": []
  },
  {
   "cell_type": "code",
   "execution_count": null,
   "metadata": {},
   "outputs": [],
   "source": []
  },
  {
   "cell_type": "code",
   "execution_count": null,
   "metadata": {},
   "outputs": [],
   "source": []
  },
  {
   "cell_type": "code",
   "execution_count": null,
   "metadata": {},
   "outputs": [],
   "source": []
  },
  {
   "cell_type": "code",
   "execution_count": null,
   "metadata": {},
   "outputs": [],
   "source": []
  },
  {
   "cell_type": "code",
   "execution_count": null,
   "metadata": {},
   "outputs": [],
   "source": []
  },
  {
   "cell_type": "code",
   "execution_count": null,
   "metadata": {},
   "outputs": [],
   "source": []
  },
  {
   "cell_type": "code",
   "execution_count": null,
   "metadata": {},
   "outputs": [],
   "source": []
  },
  {
   "cell_type": "code",
   "execution_count": null,
   "metadata": {},
   "outputs": [],
   "source": []
  },
  {
   "cell_type": "code",
   "execution_count": null,
   "metadata": {},
   "outputs": [],
   "source": []
  },
  {
   "cell_type": "code",
   "execution_count": null,
   "metadata": {},
   "outputs": [],
   "source": []
  },
  {
   "cell_type": "code",
   "execution_count": null,
   "metadata": {},
   "outputs": [],
   "source": []
  },
  {
   "cell_type": "code",
   "execution_count": null,
   "metadata": {},
   "outputs": [],
   "source": []
  },
  {
   "cell_type": "code",
   "execution_count": null,
   "metadata": {},
   "outputs": [],
   "source": []
  },
  {
   "cell_type": "code",
   "execution_count": null,
   "metadata": {},
   "outputs": [],
   "source": []
  },
  {
   "cell_type": "code",
   "execution_count": null,
   "metadata": {},
   "outputs": [],
   "source": []
  },
  {
   "cell_type": "code",
   "execution_count": null,
   "metadata": {},
   "outputs": [],
   "source": []
  },
  {
   "cell_type": "code",
   "execution_count": null,
   "metadata": {},
   "outputs": [],
   "source": []
  },
  {
   "cell_type": "code",
   "execution_count": null,
   "metadata": {},
   "outputs": [],
   "source": []
  },
  {
   "cell_type": "code",
   "execution_count": null,
   "metadata": {},
   "outputs": [],
   "source": []
  },
  {
   "cell_type": "code",
   "execution_count": null,
   "metadata": {},
   "outputs": [],
   "source": []
  },
  {
   "cell_type": "code",
   "execution_count": null,
   "metadata": {},
   "outputs": [],
   "source": []
  },
  {
   "cell_type": "code",
   "execution_count": null,
   "metadata": {},
   "outputs": [],
   "source": []
  }
 ],
 "metadata": {
  "kernelspec": {
   "display_name": "Python 3",
   "language": "python",
   "name": "python3"
  },
  "language_info": {
   "codemirror_mode": {
    "name": "ipython",
    "version": 3
   },
   "file_extension": ".py",
   "mimetype": "text/x-python",
   "name": "python",
   "nbconvert_exporter": "python",
   "pygments_lexer": "ipython3",
   "version": "3.7.3"
  }
 },
 "nbformat": 4,
 "nbformat_minor": 2
}
