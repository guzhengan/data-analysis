{
 "cells": [
  {
   "cell_type": "markdown",
   "metadata": {},
   "source": [
    "# 第九章 时序数据 "
   ]
  },
  {
   "cell_type": "code",
   "execution_count": 3,
   "metadata": {},
   "outputs": [],
   "source": [
    "import pandas as pd\n",
    "import numpy as np"
   ]
  },
  {
   "cell_type": "markdown",
   "metadata": {},
   "source": [
    "## 三、重采样\n",
    "##### 所谓重采样，就是指resample函数，它可以看做时序版本的groupby函数"
   ]
  },
  {
   "cell_type": "markdown",
   "metadata": {},
   "source": [
    "### 1.resample对象的基本操作\n",
    "##### 采样频率一般设置为上面提到的offset字符"
   ]
  },
  {
   "cell_type": "code",
   "execution_count": 4,
   "metadata": {},
   "outputs": [
    {
     "data": {
      "text/html": [
       "<div>\n",
       "<style scoped>\n",
       "    .dataframe tbody tr th:only-of-type {\n",
       "        vertical-align: middle;\n",
       "    }\n",
       "\n",
       "    .dataframe tbody tr th {\n",
       "        vertical-align: top;\n",
       "    }\n",
       "\n",
       "    .dataframe thead th {\n",
       "        text-align: right;\n",
       "    }\n",
       "</style>\n",
       "<table border=\"1\" class=\"dataframe\">\n",
       "  <thead>\n",
       "    <tr style=\"text-align: right;\">\n",
       "      <th></th>\n",
       "      <th>A</th>\n",
       "      <th>B</th>\n",
       "      <th>C</th>\n",
       "    </tr>\n",
       "  </thead>\n",
       "  <tbody>\n",
       "    <tr>\n",
       "      <th>2020-01-01 00:00:00</th>\n",
       "      <td>0.177775</td>\n",
       "      <td>-0.459368</td>\n",
       "      <td>-0.362346</td>\n",
       "    </tr>\n",
       "    <tr>\n",
       "      <th>2020-01-01 00:00:01</th>\n",
       "      <td>0.626194</td>\n",
       "      <td>2.207254</td>\n",
       "      <td>-0.559469</td>\n",
       "    </tr>\n",
       "    <tr>\n",
       "      <th>2020-01-01 00:00:02</th>\n",
       "      <td>-0.173953</td>\n",
       "      <td>1.651510</td>\n",
       "      <td>-0.358861</td>\n",
       "    </tr>\n",
       "    <tr>\n",
       "      <th>2020-01-01 00:00:03</th>\n",
       "      <td>0.044189</td>\n",
       "      <td>-0.158931</td>\n",
       "      <td>-0.825210</td>\n",
       "    </tr>\n",
       "    <tr>\n",
       "      <th>2020-01-01 00:00:04</th>\n",
       "      <td>-0.845582</td>\n",
       "      <td>-0.745165</td>\n",
       "      <td>-1.016058</td>\n",
       "    </tr>\n",
       "  </tbody>\n",
       "</table>\n",
       "</div>"
      ],
      "text/plain": [
       "                            A         B         C\n",
       "2020-01-01 00:00:00  0.177775 -0.459368 -0.362346\n",
       "2020-01-01 00:00:01  0.626194  2.207254 -0.559469\n",
       "2020-01-01 00:00:02 -0.173953  1.651510 -0.358861\n",
       "2020-01-01 00:00:03  0.044189 -0.158931 -0.825210\n",
       "2020-01-01 00:00:04 -0.845582 -0.745165 -1.016058"
      ]
     },
     "execution_count": 4,
     "metadata": {},
     "output_type": "execute_result"
    }
   ],
   "source": [
    "df_r = pd.DataFrame(np.random.randn(1000, 3),index=pd.date_range('1/1/2020', freq='S', periods=1000),\n",
    "                  columns=['A', 'B', 'C'])\n",
    "df_r.head()"
   ]
  },
  {
   "cell_type": "code",
   "execution_count": 6,
   "metadata": {},
   "outputs": [
    {
     "data": {
      "text/plain": [
       "<pandas.core.resample.DatetimeIndexResampler object at 0x7fbc7d63f750>"
      ]
     },
     "execution_count": 6,
     "metadata": {},
     "output_type": "execute_result"
    }
   ],
   "source": [
    "r = df_r.resample('3min')\n",
    "r"
   ]
  },
  {
   "cell_type": "code",
   "execution_count": 9,
   "metadata": {},
   "outputs": [
    {
     "data": {
      "text/html": [
       "<div>\n",
       "<style scoped>\n",
       "    .dataframe tbody tr th:only-of-type {\n",
       "        vertical-align: middle;\n",
       "    }\n",
       "\n",
       "    .dataframe tbody tr th {\n",
       "        vertical-align: top;\n",
       "    }\n",
       "\n",
       "    .dataframe thead th {\n",
       "        text-align: right;\n",
       "    }\n",
       "</style>\n",
       "<table border=\"1\" class=\"dataframe\">\n",
       "  <thead>\n",
       "    <tr style=\"text-align: right;\">\n",
       "      <th></th>\n",
       "      <th>A</th>\n",
       "      <th>B</th>\n",
       "      <th>C</th>\n",
       "    </tr>\n",
       "  </thead>\n",
       "  <tbody>\n",
       "    <tr>\n",
       "      <th>2020-01-01 00:00:00</th>\n",
       "      <td>-19.665310</td>\n",
       "      <td>8.328837</td>\n",
       "      <td>-9.858038</td>\n",
       "    </tr>\n",
       "    <tr>\n",
       "      <th>2020-01-01 00:03:00</th>\n",
       "      <td>-26.870187</td>\n",
       "      <td>-19.482617</td>\n",
       "      <td>-4.898907</td>\n",
       "    </tr>\n",
       "    <tr>\n",
       "      <th>2020-01-01 00:06:00</th>\n",
       "      <td>8.104180</td>\n",
       "      <td>16.787610</td>\n",
       "      <td>11.111367</td>\n",
       "    </tr>\n",
       "    <tr>\n",
       "      <th>2020-01-01 00:09:00</th>\n",
       "      <td>24.665701</td>\n",
       "      <td>-14.070119</td>\n",
       "      <td>-17.599416</td>\n",
       "    </tr>\n",
       "    <tr>\n",
       "      <th>2020-01-01 00:12:00</th>\n",
       "      <td>-1.253184</td>\n",
       "      <td>6.813827</td>\n",
       "      <td>1.436147</td>\n",
       "    </tr>\n",
       "    <tr>\n",
       "      <th>2020-01-01 00:15:00</th>\n",
       "      <td>-6.803968</td>\n",
       "      <td>6.296797</td>\n",
       "      <td>13.040606</td>\n",
       "    </tr>\n",
       "  </tbody>\n",
       "</table>\n",
       "</div>"
      ],
      "text/plain": [
       "                             A          B          C\n",
       "2020-01-01 00:00:00 -19.665310   8.328837  -9.858038\n",
       "2020-01-01 00:03:00 -26.870187 -19.482617  -4.898907\n",
       "2020-01-01 00:06:00   8.104180  16.787610  11.111367\n",
       "2020-01-01 00:09:00  24.665701 -14.070119 -17.599416\n",
       "2020-01-01 00:12:00  -1.253184   6.813827   1.436147\n",
       "2020-01-01 00:15:00  -6.803968   6.296797  13.040606"
      ]
     },
     "execution_count": 9,
     "metadata": {},
     "output_type": "execute_result"
    }
   ],
   "source": [
    "r.sum()"
   ]
  },
  {
   "cell_type": "code",
   "execution_count": 10,
   "metadata": {},
   "outputs": [
    {
     "data": {
      "text/html": [
       "<div>\n",
       "<style scoped>\n",
       "    .dataframe tbody tr th:only-of-type {\n",
       "        vertical-align: middle;\n",
       "    }\n",
       "\n",
       "    .dataframe tbody tr th {\n",
       "        vertical-align: top;\n",
       "    }\n",
       "\n",
       "    .dataframe thead th {\n",
       "        text-align: right;\n",
       "    }\n",
       "</style>\n",
       "<table border=\"1\" class=\"dataframe\">\n",
       "  <thead>\n",
       "    <tr style=\"text-align: right;\">\n",
       "      <th></th>\n",
       "      <th>A</th>\n",
       "      <th>B</th>\n",
       "      <th>C</th>\n",
       "    </tr>\n",
       "  </thead>\n",
       "  <tbody>\n",
       "    <tr>\n",
       "      <th>2020-01-01</th>\n",
       "      <td>-3.695056</td>\n",
       "      <td>-2.710320</td>\n",
       "      <td>2.230938</td>\n",
       "    </tr>\n",
       "    <tr>\n",
       "      <th>2020-02-03</th>\n",
       "      <td>-0.064266</td>\n",
       "      <td>-0.454343</td>\n",
       "      <td>-0.619140</td>\n",
       "    </tr>\n",
       "    <tr>\n",
       "      <th>2020-03-02</th>\n",
       "      <td>0.981248</td>\n",
       "      <td>8.318306</td>\n",
       "      <td>-0.854792</td>\n",
       "    </tr>\n",
       "    <tr>\n",
       "      <th>2020-04-01</th>\n",
       "      <td>-2.257505</td>\n",
       "      <td>0.936925</td>\n",
       "      <td>15.525964</td>\n",
       "    </tr>\n",
       "    <tr>\n",
       "      <th>2020-05-01</th>\n",
       "      <td>-1.229655</td>\n",
       "      <td>-5.689741</td>\n",
       "      <td>-2.232628</td>\n",
       "    </tr>\n",
       "    <tr>\n",
       "      <th>2020-06-01</th>\n",
       "      <td>-1.620876</td>\n",
       "      <td>1.942736</td>\n",
       "      <td>-8.268360</td>\n",
       "    </tr>\n",
       "    <tr>\n",
       "      <th>2020-07-01</th>\n",
       "      <td>4.962911</td>\n",
       "      <td>-0.785271</td>\n",
       "      <td>0.947631</td>\n",
       "    </tr>\n",
       "  </tbody>\n",
       "</table>\n",
       "</div>"
      ],
      "text/plain": [
       "                   A         B          C\n",
       "2020-01-01 -3.695056 -2.710320   2.230938\n",
       "2020-02-03 -0.064266 -0.454343  -0.619140\n",
       "2020-03-02  0.981248  8.318306  -0.854792\n",
       "2020-04-01 -2.257505  0.936925  15.525964\n",
       "2020-05-01 -1.229655 -5.689741  -2.232628\n",
       "2020-06-01 -1.620876  1.942736  -8.268360\n",
       "2020-07-01  4.962911 -0.785271   0.947631"
      ]
     },
     "execution_count": 10,
     "metadata": {},
     "output_type": "execute_result"
    }
   ],
   "source": [
    "df_r2 = pd.DataFrame(np.random.randn(200, 3),index=pd.date_range('1/1/2020', freq='D', periods=200),\n",
    "                  columns=['A', 'B', 'C'])\n",
    "r = df_r2.resample('CBMS')\n",
    "r.sum()"
   ]
  },
  {
   "cell_type": "markdown",
   "metadata": {},
   "source": [
    "### 3.采样聚合"
   ]
  },
  {
   "cell_type": "code",
   "execution_count": 11,
   "metadata": {},
   "outputs": [
    {
     "data": {
      "text/plain": [
       "2020-01-01 00:00:00   -0.109252\n",
       "2020-01-01 00:03:00   -0.149279\n",
       "2020-01-01 00:06:00    0.045023\n",
       "2020-01-01 00:09:00    0.137032\n",
       "2020-01-01 00:12:00   -0.006962\n",
       "2020-01-01 00:15:00   -0.068040\n",
       "Freq: 3T, Name: A, dtype: float64"
      ]
     },
     "execution_count": 11,
     "metadata": {},
     "output_type": "execute_result"
    }
   ],
   "source": [
    "r = df_r.resample('3T')\n",
    "r['A'].mean()"
   ]
  },
  {
   "cell_type": "code",
   "execution_count": 12,
   "metadata": {},
   "outputs": [
    {
     "data": {
      "text/html": [
       "<div>\n",
       "<style scoped>\n",
       "    .dataframe tbody tr th:only-of-type {\n",
       "        vertical-align: middle;\n",
       "    }\n",
       "\n",
       "    .dataframe tbody tr th {\n",
       "        vertical-align: top;\n",
       "    }\n",
       "\n",
       "    .dataframe thead th {\n",
       "        text-align: right;\n",
       "    }\n",
       "</style>\n",
       "<table border=\"1\" class=\"dataframe\">\n",
       "  <thead>\n",
       "    <tr style=\"text-align: right;\">\n",
       "      <th></th>\n",
       "      <th>sum</th>\n",
       "      <th>mean</th>\n",
       "      <th>std</th>\n",
       "    </tr>\n",
       "  </thead>\n",
       "  <tbody>\n",
       "    <tr>\n",
       "      <th>2020-01-01 00:00:00</th>\n",
       "      <td>-19.665310</td>\n",
       "      <td>-0.109252</td>\n",
       "      <td>1.003105</td>\n",
       "    </tr>\n",
       "    <tr>\n",
       "      <th>2020-01-01 00:03:00</th>\n",
       "      <td>-26.870187</td>\n",
       "      <td>-0.149279</td>\n",
       "      <td>0.993577</td>\n",
       "    </tr>\n",
       "    <tr>\n",
       "      <th>2020-01-01 00:06:00</th>\n",
       "      <td>8.104180</td>\n",
       "      <td>0.045023</td>\n",
       "      <td>1.059718</td>\n",
       "    </tr>\n",
       "    <tr>\n",
       "      <th>2020-01-01 00:09:00</th>\n",
       "      <td>24.665701</td>\n",
       "      <td>0.137032</td>\n",
       "      <td>1.010835</td>\n",
       "    </tr>\n",
       "    <tr>\n",
       "      <th>2020-01-01 00:12:00</th>\n",
       "      <td>-1.253184</td>\n",
       "      <td>-0.006962</td>\n",
       "      <td>0.876128</td>\n",
       "    </tr>\n",
       "    <tr>\n",
       "      <th>2020-01-01 00:15:00</th>\n",
       "      <td>-6.803968</td>\n",
       "      <td>-0.068040</td>\n",
       "      <td>0.935122</td>\n",
       "    </tr>\n",
       "  </tbody>\n",
       "</table>\n",
       "</div>"
      ],
      "text/plain": [
       "                           sum      mean       std\n",
       "2020-01-01 00:00:00 -19.665310 -0.109252  1.003105\n",
       "2020-01-01 00:03:00 -26.870187 -0.149279  0.993577\n",
       "2020-01-01 00:06:00   8.104180  0.045023  1.059718\n",
       "2020-01-01 00:09:00  24.665701  0.137032  1.010835\n",
       "2020-01-01 00:12:00  -1.253184 -0.006962  0.876128\n",
       "2020-01-01 00:15:00  -6.803968 -0.068040  0.935122"
      ]
     },
     "execution_count": 12,
     "metadata": {},
     "output_type": "execute_result"
    }
   ],
   "source": [
    "r['A'].agg([np.sum, np.mean, np.std])"
   ]
  },
  {
   "cell_type": "markdown",
   "metadata": {},
   "source": [
    "##### 类似地，可以使用函数 lambda表达式"
   ]
  },
  {
   "cell_type": "code",
   "execution_count": 13,
   "metadata": {},
   "outputs": [
    {
     "data": {
      "text/html": [
       "<div>\n",
       "<style scoped>\n",
       "    .dataframe tbody tr th:only-of-type {\n",
       "        vertical-align: middle;\n",
       "    }\n",
       "\n",
       "    .dataframe tbody tr th {\n",
       "        vertical-align: top;\n",
       "    }\n",
       "\n",
       "    .dataframe thead th {\n",
       "        text-align: right;\n",
       "    }\n",
       "</style>\n",
       "<table border=\"1\" class=\"dataframe\">\n",
       "  <thead>\n",
       "    <tr style=\"text-align: right;\">\n",
       "      <th></th>\n",
       "      <th>A</th>\n",
       "      <th>B</th>\n",
       "    </tr>\n",
       "  </thead>\n",
       "  <tbody>\n",
       "    <tr>\n",
       "      <th>2020-01-01 00:00:00</th>\n",
       "      <td>-19.665310</td>\n",
       "      <td>5.022055</td>\n",
       "    </tr>\n",
       "    <tr>\n",
       "      <th>2020-01-01 00:03:00</th>\n",
       "      <td>-26.870187</td>\n",
       "      <td>5.573791</td>\n",
       "    </tr>\n",
       "    <tr>\n",
       "      <th>2020-01-01 00:06:00</th>\n",
       "      <td>8.104180</td>\n",
       "      <td>4.585215</td>\n",
       "    </tr>\n",
       "    <tr>\n",
       "      <th>2020-01-01 00:09:00</th>\n",
       "      <td>24.665701</td>\n",
       "      <td>5.068494</td>\n",
       "    </tr>\n",
       "    <tr>\n",
       "      <th>2020-01-01 00:12:00</th>\n",
       "      <td>-1.253184</td>\n",
       "      <td>6.102251</td>\n",
       "    </tr>\n",
       "    <tr>\n",
       "      <th>2020-01-01 00:15:00</th>\n",
       "      <td>-6.803968</td>\n",
       "      <td>4.905433</td>\n",
       "    </tr>\n",
       "  </tbody>\n",
       "</table>\n",
       "</div>"
      ],
      "text/plain": [
       "                             A         B\n",
       "2020-01-01 00:00:00 -19.665310  5.022055\n",
       "2020-01-01 00:03:00 -26.870187  5.573791\n",
       "2020-01-01 00:06:00   8.104180  4.585215\n",
       "2020-01-01 00:09:00  24.665701  5.068494\n",
       "2020-01-01 00:12:00  -1.253184  6.102251\n",
       "2020-01-01 00:15:00  -6.803968  4.905433"
      ]
     },
     "execution_count": 13,
     "metadata": {},
     "output_type": "execute_result"
    }
   ],
   "source": [
    "r.agg({'A':np.sum,'B':lambda x:max(x)-min(x)})"
   ]
  },
  {
   "cell_type": "markdown",
   "metadata": {},
   "source": [
    "### 3.采样组的迭代\n",
    "##### 采样组的迭代和groupby迭代完全类似，对于每一组都可以做相应操作"
   ]
  },
  {
   "cell_type": "code",
   "execution_count": 14,
   "metadata": {},
   "outputs": [
    {
     "name": "stdout",
     "output_type": "stream",
     "text": [
      "Group:  2020-01-01 00:00:00\n",
      "---------------------------\n",
      "2020-01-01 00:00:00    0\n",
      "2020-01-01 00:30:00    1\n",
      "2020-01-01 00:31:00    2\n",
      "dtype: int64\n",
      "\n",
      "Group:  2020-01-01 01:00:00\n",
      "---------------------------\n",
      "2020-01-01 01:00:00    3\n",
      "dtype: int64\n",
      "\n",
      "Group:  2020-01-01 02:00:00\n",
      "---------------------------\n",
      "Series([], dtype: int64)\n",
      "\n",
      "Group:  2020-01-01 03:00:00\n",
      "---------------------------\n",
      "2020-01-01 03:00:00    4\n",
      "2020-01-01 03:05:00    5\n",
      "dtype: int64\n",
      "\n"
     ]
    }
   ],
   "source": [
    "small = pd.Series(range(6),index=pd.to_datetime(['2020-01-01 00:00:00', '2020-01-01 00:30:00'\n",
    "                                                 , '2020-01-01 00:31:00','2020-01-01 01:00:00'\n",
    "                                                 ,'2020-01-01 03:00:00','2020-01-01 03:05:00']))\n",
    "resampled = small.resample('H')\n",
    "for name, group in resampled:\n",
    "    print(\"Group: \", name)\n",
    "    print(\"-\" * 27)\n",
    "    print(group, end=\"\\n\\n\")"
   ]
  },
  {
   "cell_type": "markdown",
   "metadata": {},
   "source": [
    "### 四、窗口函数\n",
    "##### 下面主要介绍pandas中两类主要的窗口（window）函数：rolling/expanding"
   ]
  },
  {
   "cell_type": "code",
   "execution_count": 15,
   "metadata": {},
   "outputs": [
    {
     "data": {
      "text/plain": [
       "2020-01-01    1.093105\n",
       "2020-01-02    0.711759\n",
       "2020-01-03    0.734754\n",
       "2020-01-04    1.442447\n",
       "2020-01-05   -1.116043\n",
       "Freq: D, dtype: float64"
      ]
     },
     "execution_count": 15,
     "metadata": {},
     "output_type": "execute_result"
    }
   ],
   "source": [
    "s = pd.Series(np.random.randn(1000),index=pd.date_range('1/1/2020', periods=1000))\n",
    "s.head()"
   ]
  },
  {
   "cell_type": "markdown",
   "metadata": {},
   "source": [
    "### 1.Rolling\n",
    "#### （a）常用聚合\n",
    "##### 所谓rolling方法，就是规定一个窗口，它和groupby对象一样，本身不会进行操作，需要配合聚合函数才能计算结果"
   ]
  },
  {
   "cell_type": "code",
   "execution_count": 16,
   "metadata": {},
   "outputs": [
    {
     "data": {
      "text/plain": [
       "Rolling [window=50,center=False,axis=0]"
      ]
     },
     "execution_count": 16,
     "metadata": {},
     "output_type": "execute_result"
    }
   ],
   "source": [
    "s.rolling(window=50)"
   ]
  },
  {
   "cell_type": "code",
   "execution_count": 17,
   "metadata": {},
   "outputs": [
    {
     "data": {
      "text/plain": [
       "2020-01-01         NaN\n",
       "2020-01-02         NaN\n",
       "2020-01-03         NaN\n",
       "2020-01-04         NaN\n",
       "2020-01-05         NaN\n",
       "                ...   \n",
       "2022-09-22    0.004697\n",
       "2022-09-23    0.020048\n",
       "2022-09-24    0.050533\n",
       "2022-09-25    0.007057\n",
       "2022-09-26   -0.013178\n",
       "Freq: D, Length: 1000, dtype: float64"
      ]
     },
     "execution_count": 17,
     "metadata": {},
     "output_type": "execute_result"
    }
   ],
   "source": [
    "s.rolling(window=50).mean()"
   ]
  },
  {
   "cell_type": "markdown",
   "metadata": {},
   "source": [
    "##### min_periods参数是指需要的非缺失数据点数量阀值"
   ]
  },
  {
   "cell_type": "code",
   "execution_count": 18,
   "metadata": {},
   "outputs": [
    {
     "data": {
      "text/plain": [
       "2020-01-01         NaN\n",
       "2020-01-02         NaN\n",
       "2020-01-03    0.846539\n",
       "2020-01-04    0.995516\n",
       "2020-01-05    0.573204\n",
       "Freq: D, dtype: float64"
      ]
     },
     "execution_count": 18,
     "metadata": {},
     "output_type": "execute_result"
    }
   ],
   "source": [
    "s.rolling(window=50,min_periods=3).mean().head()"
   ]
  },
  {
   "cell_type": "markdown",
   "metadata": {},
   "source": [
    "##### count/sum/mean/median/min/max/std/var/skew/kurt/quantile/cov/corr都是常用的聚合函数"
   ]
  },
  {
   "cell_type": "markdown",
   "metadata": {},
   "source": [
    "### （b）rolling的apply聚合"
   ]
  },
  {
   "cell_type": "markdown",
   "metadata": {},
   "source": [
    "##### 使用apply聚合时，只需记住传入的是window大小的Series，输出的必须是标量即可，比如如下计算变异系数"
   ]
  },
  {
   "cell_type": "code",
   "execution_count": 19,
   "metadata": {},
   "outputs": [
    {
     "data": {
      "text/plain": [
       "2020-01-01         NaN\n",
       "2020-01-02         NaN\n",
       "2020-01-03    0.252606\n",
       "2020-01-04    0.346898\n",
       "2020-01-05    1.728087\n",
       "Freq: D, dtype: float64"
      ]
     },
     "execution_count": 19,
     "metadata": {},
     "output_type": "execute_result"
    }
   ],
   "source": [
    "s.rolling(window=50,min_periods=3).apply(lambda x:x.std()/x.mean()).head()"
   ]
  },
  {
   "cell_type": "markdown",
   "metadata": {},
   "source": [
    "### （c）基于时间的rolling"
   ]
  },
  {
   "cell_type": "code",
   "execution_count": 20,
   "metadata": {},
   "outputs": [
    {
     "data": {
      "text/plain": [
       "2020-01-01    1.093105\n",
       "2020-01-02    0.902432\n",
       "2020-01-03    0.846539\n",
       "2020-01-04    0.995516\n",
       "2020-01-05    0.573204\n",
       "Freq: D, dtype: float64"
      ]
     },
     "execution_count": 20,
     "metadata": {},
     "output_type": "execute_result"
    }
   ],
   "source": [
    "s.rolling('15D').mean().head()"
   ]
  },
  {
   "cell_type": "markdown",
   "metadata": {},
   "source": [
    "##### 可选closed='right'（默认）\\'left'\\'both'\\'neither'参数，决定端点的包含情况"
   ]
  },
  {
   "cell_type": "code",
   "execution_count": 21,
   "metadata": {},
   "outputs": [
    {
     "data": {
      "text/plain": [
       "2020-01-01    1.093105\n",
       "2020-01-02    1.804864\n",
       "2020-01-03    2.539618\n",
       "2020-01-04    3.982065\n",
       "2020-01-05    2.866022\n",
       "Freq: D, dtype: float64"
      ]
     },
     "execution_count": 21,
     "metadata": {},
     "output_type": "execute_result"
    }
   ],
   "source": [
    "s.rolling('15D', closed='right').sum().head()"
   ]
  },
  {
   "cell_type": "markdown",
   "metadata": {},
   "source": [
    "### 2.Expanding\n",
    "#### (a) expanding函数\n",
    "##### 普通的expanding函数等价于rolling（window=len(s),min_periods=1），是对序列的累计计算"
   ]
  },
  {
   "cell_type": "code",
   "execution_count": 22,
   "metadata": {},
   "outputs": [
    {
     "data": {
      "text/plain": [
       "2020-01-01    1.093105\n",
       "2020-01-02    1.804864\n",
       "2020-01-03    2.539618\n",
       "2020-01-04    3.982065\n",
       "2020-01-05    2.866022\n",
       "Freq: D, dtype: float64"
      ]
     },
     "execution_count": 22,
     "metadata": {},
     "output_type": "execute_result"
    }
   ],
   "source": [
    "s.rolling(window=len(s),min_periods=1).sum().head()"
   ]
  },
  {
   "cell_type": "code",
   "execution_count": 23,
   "metadata": {},
   "outputs": [
    {
     "data": {
      "text/plain": [
       "2020-01-01    1.093105\n",
       "2020-01-02    1.804864\n",
       "2020-01-03    2.539618\n",
       "2020-01-04    3.982065\n",
       "2020-01-05    2.866022\n",
       "Freq: D, dtype: float64"
      ]
     },
     "execution_count": 23,
     "metadata": {},
     "output_type": "execute_result"
    }
   ],
   "source": [
    "s.expanding().sum().head()"
   ]
  },
  {
   "cell_type": "markdown",
   "metadata": {},
   "source": [
    "##### apply方法也是同样可用的"
   ]
  },
  {
   "cell_type": "code",
   "execution_count": 24,
   "metadata": {},
   "outputs": [
    {
     "data": {
      "text/plain": [
       "2020-01-01    1.093105\n",
       "2020-01-02    1.804864\n",
       "2020-01-03    2.539618\n",
       "2020-01-04    3.982065\n",
       "2020-01-05    2.866022\n",
       "Freq: D, dtype: float64"
      ]
     },
     "execution_count": 24,
     "metadata": {},
     "output_type": "execute_result"
    }
   ],
   "source": [
    "s.expanding().apply(lambda x:sum(x)).head()"
   ]
  },
  {
   "cell_type": "markdown",
   "metadata": {},
   "source": [
    "#### （b）几个特别的Expanding类型函数\n",
    "##### cumsum/cumprod/cummax/cummin都是特殊expanding累计计算方法"
   ]
  },
  {
   "cell_type": "code",
   "execution_count": 25,
   "metadata": {},
   "outputs": [
    {
     "data": {
      "text/plain": [
       "2020-01-01    1.093105\n",
       "2020-01-02    1.804864\n",
       "2020-01-03    2.539618\n",
       "2020-01-04    3.982065\n",
       "2020-01-05    2.866022\n",
       "Freq: D, dtype: float64"
      ]
     },
     "execution_count": 25,
     "metadata": {},
     "output_type": "execute_result"
    }
   ],
   "source": [
    "s.cumsum().head()"
   ]
  },
  {
   "cell_type": "code",
   "execution_count": 26,
   "metadata": {},
   "outputs": [
    {
     "data": {
      "text/plain": [
       "2020-01-01    1.093105\n",
       "2020-01-02    1.093105\n",
       "2020-01-03    1.093105\n",
       "2020-01-04    1.442447\n",
       "2020-01-05    1.442447\n",
       "Freq: D, dtype: float64"
      ]
     },
     "execution_count": 26,
     "metadata": {},
     "output_type": "execute_result"
    }
   ],
   "source": [
    "s.cummax().head()"
   ]
  },
  {
   "cell_type": "markdown",
   "metadata": {},
   "source": [
    "##### shift/diff/pct_change都是涉及到了元素关系\n",
    "##### ①shift是指序列索引不变，但值向后移动\n",
    "##### ②diff是指前后元素的差，period参数表示间隔，默认为1，并且可以为负\n",
    "##### ③pct_change是值前后元素的变化百分比，period参数与diff类似"
   ]
  },
  {
   "cell_type": "code",
   "execution_count": 27,
   "metadata": {},
   "outputs": [
    {
     "data": {
      "text/plain": [
       "2020-01-01         NaN\n",
       "2020-01-02         NaN\n",
       "2020-01-03    1.093105\n",
       "2020-01-04    0.711759\n",
       "2020-01-05    0.734754\n",
       "Freq: D, dtype: float64"
      ]
     },
     "execution_count": 27,
     "metadata": {},
     "output_type": "execute_result"
    }
   ],
   "source": [
    "s.shift(2).head()"
   ]
  },
  {
   "cell_type": "code",
   "execution_count": 28,
   "metadata": {},
   "outputs": [
    {
     "data": {
      "text/plain": [
       "2020-01-01         NaN\n",
       "2020-01-02         NaN\n",
       "2020-01-03         NaN\n",
       "2020-01-04    0.349342\n",
       "2020-01-05   -1.827802\n",
       "Freq: D, dtype: float64"
      ]
     },
     "execution_count": 28,
     "metadata": {},
     "output_type": "execute_result"
    }
   ],
   "source": [
    "s.diff(3).head()"
   ]
  },
  {
   "cell_type": "code",
   "execution_count": 29,
   "metadata": {},
   "outputs": [
    {
     "data": {
      "text/plain": [
       "2020-01-01         NaN\n",
       "2020-01-02         NaN\n",
       "2020-01-03         NaN\n",
       "2020-01-04    0.319587\n",
       "2020-01-05   -2.568007\n",
       "Freq: D, dtype: float64"
      ]
     },
     "execution_count": 29,
     "metadata": {},
     "output_type": "execute_result"
    }
   ],
   "source": [
    "s.pct_change(3).head()"
   ]
  },
  {
   "cell_type": "code",
   "execution_count": null,
   "metadata": {},
   "outputs": [],
   "source": []
  }
 ],
 "metadata": {
  "kernelspec": {
   "display_name": "Python 3",
   "language": "python",
   "name": "python3"
  },
  "language_info": {
   "codemirror_mode": {
    "name": "ipython",
    "version": 3
   },
   "file_extension": ".py",
   "mimetype": "text/x-python",
   "name": "python",
   "nbconvert_exporter": "python",
   "pygments_lexer": "ipython3",
   "version": "3.7.7"
  }
 },
 "nbformat": 4,
 "nbformat_minor": 4
}
